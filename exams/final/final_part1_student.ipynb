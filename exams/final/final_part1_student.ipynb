{
 "cells": [
  {
   "cell_type": "markdown",
   "metadata": {},
   "source": [
    "# Part 1 - Planning an experiment\n",
    "\n",
    "In this part, we will first start to think of how to perform an fMRI experiment. First, think of a controlled experiment that you would like to do, and how you can use two conditions to study the brain. For example, if you are interested in color representation, you could show images that are colored in one condition, and images that are black and white in the other. To find where color is represented, you can do a contrast in which you see which regions have higher activity when looking at colored images versus black and white images.\n",
    "\n",
    "(You have to chose another example).\n",
    "\n",
    "## 1.1 Designing the experiment\n",
    "\n",
    "In the space below, describe an experiment that you would like to test:\n",
    "- Describe the question you are interested in.\n",
    "- What are the two conditions you would use? Make sure that your conditions allow you to answer the question you asked.\n",
    "- Describe a simple experiment that you would run: what images, sounds, or other stimuli would you use? how long would the experiment be? what would the subjects be doing?"
   ]
  },
  {
   "cell_type": "code",
   "execution_count": null,
   "metadata": {
    "collapsed": true
   },
   "outputs": [],
   "source": [
    "### STUDENT ANSWER\n"
   ]
  },
  {
   "cell_type": "markdown",
   "metadata": {},
   "source": [
    "## 1.2 Analyzing the data\n",
    "\n",
    "Now assume that you have indeed collected this data and preprocessed it. It is now loaded on your computer in an array format, and so is the design matrix that describes the order of appearance of your stimulus. What are the steps that are required for you to find out which brain regions are more activated in your task of interest? Write up all the analytical steps you need to take. We are not asking you to write code, only a description of the steps that you need to do."
   ]
  },
  {
   "cell_type": "code",
   "execution_count": null,
   "metadata": {
    "collapsed": true
   },
   "outputs": [],
   "source": [
    "### STUDENT ANSWER\n"
   ]
  },
  {
   "cell_type": "markdown",
   "metadata": {},
   "source": [
    "# Part 2 - Motor Localizer\n",
    "\n",
    "In this part, we will look at another localizer dataset, in which subjects performed different motor actions in the scanner. We load the data here and look at the conditions:"
   ]
  },
  {
   "cell_type": "code",
   "execution_count": null,
   "metadata": {
    "collapsed": true
   },
   "outputs": [],
   "source": [
    "# Imports\n",
    "import neurods as nds\n",
    "import numpy as np\n",
    "import h5py, os\n",
    "import matplotlib.pyplot as plt\n",
    "# Configure defaults for plots\n",
    "plt.rcParams['image.interpolation'] = 'nearest'\n",
    "plt.rcParams['image.aspect'] = 'auto'\n",
    "plt.rcParams['image.cmap'] = 'viridis'\n",
    "%matplotlib inline"
   ]
  },
  {
   "cell_type": "code",
   "execution_count": null,
   "metadata": {
    "collapsed": false
   },
   "outputs": [],
   "source": [
    "# Loading the design\n",
    "# (hdf files are a standard data storage format; \n",
    "# here, we simply load data to arrays and lists)\n",
    "basedir = os.path.join(nds.io.data_list['fmri'],'motor')\n",
    "design = h5py.File(os.path.join(basedir,'design_motor.hdf'))\n",
    "conditions = [s.astype('str') for s in design['xnames'][:]]\n",
    "print('Conditions: ', conditions)\n",
    "X = design['X'][:]\n",
    "\n",
    "plt.figure(figsize=(10,4))\n",
    "for i, (cond, label) in enumerate(zip(X.T, conditions)):\n",
    "    plt.plot(cond+i+0.2*i, label=label, lw=2)\n",
    "plt.title('Condition labels')\n",
    "_ = plt.legend(frameon=False, bbox_to_anchor=(1.4, 1))"
   ]
  },
  {
   "cell_type": "markdown",
   "metadata": {},
   "source": [
    "## 2.1 Describing the experiment\n",
    "\n",
    "- Describe the above experiment in two sentences. \n",
    "- What was the length of each condition?\n",
    "- What do you think you can test about the brain using this data?"
   ]
  },
  {
   "cell_type": "code",
   "execution_count": null,
   "metadata": {
    "collapsed": true
   },
   "outputs": [],
   "source": [
    "### STUDENT ANSWER\n"
   ]
  },
  {
   "cell_type": "markdown",
   "metadata": {},
   "source": [
    "## 2.2 Loading the data and normalizing it\n",
    "\n",
    "Here we load the data. "
   ]
  },
  {
   "cell_type": "code",
   "execution_count": null,
   "metadata": {
    "collapsed": false
   },
   "outputs": [],
   "source": [
    "import cortex\n",
    "sub, xfm = 'S3', 's03_motorloc'\n",
    "\n",
    "mask = cortex.db.get_mask(sub, xfm, type='cortical')\n",
    "fname = os.path.join(basedir, 's03_motorloc.nii.gz')\n",
    "# fmri responses:\n",
    "Y = nds.fmri.load_data(fname, mask=mask)\n",
    "\n",
    "plt.figure(figsize=(10,4))\n",
    "plt.imshow(Y)\n",
    "plt.title('Voxel responses');"
   ]
  },
  {
   "cell_type": "markdown",
   "metadata": {},
   "source": [
    "- print the shape of the brain data, now called \"Y\" and of the design matrix data, now called \"X\". \n",
    "- use the zscore function imported below to standardize the **columns** of \"Y\" and \"X\". \n",
    "- What is now the mean and standard deviation of the columns of Y and X? The best way to show this to plot the mean and standard deviation of the columns of Y and X."
   ]
  },
  {
   "cell_type": "code",
   "execution_count": null,
   "metadata": {
    "collapsed": false
   },
   "outputs": [],
   "source": [
    "from scipy.stats import zscore\n",
    "### STUDENT ANSWER\n"
   ]
  },
  {
   "cell_type": "markdown",
   "metadata": {},
   "source": [
    "## 2.3 Accounting for the hemodynamic response\n",
    "\n",
    "We saw in the lectures that we need to account for the delay in the hemodynamic response. We first use the neurods.fmri function that allows us to generate a canonical hemodynamic response function (hrf):\n",
    "\n",
    "- knowing that this localizer was scanned with a TR of 2 seconds, use the generate_hrf function below to estimate a canonical hrf.\n",
    "- Plot the canonical hrf."
   ]
  },
  {
   "cell_type": "code",
   "execution_count": null,
   "metadata": {
    "collapsed": false
   },
   "outputs": [],
   "source": [
    "from neurods.fmri import hrf as generate_hrf\n",
    "### STUDENT ANSWER\n"
   ]
  },
  {
   "cell_type": "markdown",
   "metadata": {},
   "source": [
    "- Now use the hrf you estimated above, and the np.convolve function, to create conv_X, a version of the design matrix that accounts for the hrf delay. Remember, the np.convolve function returns a signal that is longer than the original signal, so you should trim it appropriately."
   ]
  },
  {
   "cell_type": "code",
   "execution_count": null,
   "metadata": {
    "collapsed": false
   },
   "outputs": [],
   "source": [
    "n, d = X.shape\n",
    "\n",
    "### STUDENT ANSWER\n"
   ]
  },
  {
   "cell_type": "markdown",
   "metadata": {},
   "source": [
    "Use the following cell to plot conv_X:"
   ]
  },
  {
   "cell_type": "code",
   "execution_count": null,
   "metadata": {
    "collapsed": false
   },
   "outputs": [],
   "source": [
    "plt.figure(figsize=(10,4))\n",
    "\n",
    "for i, (cond, label) in enumerate(zip(conv_X.T, conditions)):\n",
    "    plt.plot(cond+i+3*i, label=label, lw=2)\n",
    "    \n",
    "plt.title('Condition labels')\n",
    "_ = plt.legend(frameon=False, bbox_to_anchor=(1.4, 1))"
   ]
  },
  {
   "cell_type": "markdown",
   "metadata": {},
   "source": [
    "## 2.4 Estimating voxel responses to motor actions\n",
    "\n",
    "In this part, we will estimate the weights of a linear regression model that expresses the activity in a voxel in terms of the experimental conditions.\n",
    "\n",
    "- implement a function that computes the OLS solution for a given design matrix and a response matrix\n",
    "- use this function to estimate the weights for all voxels\n",
    "- print the shape of the estimated weights"
   ]
  },
  {
   "cell_type": "code",
   "execution_count": null,
   "metadata": {
    "collapsed": false
   },
   "outputs": [],
   "source": [
    "### STUDENT ANSWER\n"
   ]
  },
  {
   "cell_type": "markdown",
   "metadata": {},
   "source": [
    "- Now create 6 flatmaps, each for the weights of a condition across all the brain.\n",
    "    - make sure you title each flatmap with the correct condition name\n"
   ]
  },
  {
   "cell_type": "code",
   "execution_count": null,
   "metadata": {
    "collapsed": false
   },
   "outputs": [],
   "source": [
    "# hint: this is how you plot a flatmap: first define a volume with the proper \n",
    "# variables, here called \"some_vector\"\n",
    "# vol = cortex.Volume(some_vector, sub, xfm, mask = mask)\n",
    "# __  = cortex.quickflat.make_figure(vol)\n",
    "# plt.title('some str', fontsize = 30)\n",
    "\n",
    "### STUDENT ANSWER\n"
   ]
  },
  {
   "cell_type": "markdown",
   "metadata": {},
   "source": [
    "## 2.5 Estimating a contrast\n",
    "\n",
    "We are interested in identifying foot motor regions, and specifically to distinguish them from hand motor regions. \n",
    "- Construct a vector **c** that encodes the contrast \"**foot - hand**\". \n",
    "- Use the vector **c** to estimate a contrast between foot and hand.\n",
    "- Make a flatmap of the contrast.\n",
    "- Title it appropriately."
   ]
  },
  {
   "cell_type": "code",
   "execution_count": null,
   "metadata": {
    "collapsed": false
   },
   "outputs": [],
   "source": [
    "### STUDENT ANSWER\n"
   ]
  },
  {
   "cell_type": "markdown",
   "metadata": {},
   "source": [
    "- Describe the plot you see? E.g. which parts of the brain seem to be higher for foot, and for hands? are these regions close to each other?"
   ]
  },
  {
   "cell_type": "markdown",
   "metadata": {},
   "source": [
    "## 2.6 Estimating a t-statistic\n",
    "\n",
    "We will use here the t-distribution method we learned in class to estimate a statistic for our contrast. As we saw in the class, we need to first predict the brain activity using our learned weights, then we need to compute the mean squared error (mse). We then can use the vector **c** and our input matrix (**conv_X**) to estimate the t-statistic.\n",
    "\n",
    "### Predict the activity $\\hat Y$\n",
    "\n",
    "- Using the weight matrix and your conv_X matrix, predict the activity $\\hat Y$."
   ]
  },
  {
   "cell_type": "code",
   "execution_count": null,
   "metadata": {
    "collapsed": true
   },
   "outputs": [],
   "source": [
    "### STUDENT ANSWER\n"
   ]
  },
  {
   "cell_type": "markdown",
   "metadata": {},
   "source": [
    "### Estimating the mse\n",
    "\n",
    "- Estimate the error $Y-\\hat Y$.\n",
    "- Compute the mean squared error: $\\frac{1}{N}\\sum_{i=0}^{N-1}(Y_i - \\hat Y_i)^2$, i.e. the mse\n",
    "- Make a flatmap of the mse.\n",
    "- Which regions have low mean squared errors? What do you think these correspond to?"
   ]
  },
  {
   "cell_type": "code",
   "execution_count": null,
   "metadata": {
    "collapsed": false
   },
   "outputs": [],
   "source": [
    "### STUDENT ANSWER\n"
   ]
  },
  {
   "cell_type": "markdown",
   "metadata": {},
   "source": [
    "### Estimating the t-statistic\n",
    "\n",
    "Now we can compute the t-statistic:\n",
    "- use the function below along with the appropriate inputs to estimate a t-statistic for the foot-hand contrast.\n",
    "- make a flatmap of the resulting statistic."
   ]
  },
  {
   "cell_type": "code",
   "execution_count": null,
   "metadata": {
    "collapsed": false
   },
   "outputs": [],
   "source": [
    "def t_stat(X, beta, mse, c):\n",
    "    num = np.dot(c,weights)\n",
    "    XtXinv = inv( np.dot(X.T,X) )\n",
    "    cT_XtXinv_c =  np.dot( np.dot( c, XtXinv),c)\n",
    "    den = np.sqrt( mse * cT_XtXinv_c )\n",
    "    return num / den\n",
    "\n",
    "### STUDENT ANSWER\n"
   ]
  },
  {
   "cell_type": "markdown",
   "metadata": {},
   "source": [
    "## 2.7 Estimating a p-value and thresholding for significance\n",
    "\n",
    "Now that we have a t-statistic, we can estimate a p-value. \n",
    "\n",
    "- Use the t-distribution to find the p-value for the t-statistic at each voxel.\n",
    "- The parameter nu for the t-distribution is set for you.\n",
    "- Plot a flatmap of p values with a log scale"
   ]
  },
  {
   "cell_type": "code",
   "execution_count": null,
   "metadata": {
    "collapsed": false
   },
   "outputs": [],
   "source": [
    "from scipy.stats import t as tdistribution\n",
    "nu = Y.shape[0] - 1\n",
    "\n",
    "### STUDENT ANSWER\n"
   ]
  },
  {
   "cell_type": "markdown",
   "metadata": {},
   "source": [
    "Finally, we can threshold for significance and find the regions that are significantly higher for the \"foot\" condition than the \"hand\" condition.\n",
    "\n",
    "- Starting with a signficance level $\\alpha = 0.05$, use Bonferonni correction to obtain $\\alpha'$ (you need to use another dimension of the dataset).\n",
    "- Using $\\alpha'$, produce a flatmap of the voxels in which you rejected the null hypothesis, i.e. for which the p-value is smaller than $\\alpha'$."
   ]
  },
  {
   "cell_type": "code",
   "execution_count": null,
   "metadata": {
    "collapsed": false
   },
   "outputs": [],
   "source": [
    "### STUDENT ANSWER\n"
   ]
  },
  {
   "cell_type": "markdown",
   "metadata": {},
   "source": [
    "Do the selected regions make sense according to the flatmap of the contrast you plotted above?"
   ]
  },
  {
   "cell_type": "code",
   "execution_count": null,
   "metadata": {
    "collapsed": true
   },
   "outputs": [],
   "source": [
    "### STUDENT ANSWER\n"
   ]
  }
 ],
 "metadata": {
  "anaconda-cloud": {},
  "kernelspec": {
   "display_name": "Python 3",
   "language": "python",
   "name": "python3"
  },
  "language_info": {
   "codemirror_mode": {
    "name": "ipython",
    "version": 3
   },
   "file_extension": ".py",
   "mimetype": "text/x-python",
   "name": "python",
   "nbconvert_exporter": "python",
   "pygments_lexer": "ipython3",
   "version": "3.5.2"
  },
  "timetravel": {
   "allowedContentTypes": [
    "text/plain"
   ],
   "enabled": false,
   "version": "1.0"
  }
 },
 "nbformat": 4,
 "nbformat_minor": 0
}
