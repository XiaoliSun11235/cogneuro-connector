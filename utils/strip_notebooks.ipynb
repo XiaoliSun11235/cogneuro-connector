{
 "cells": [
  {
   "cell_type": "code",
   "execution_count": 16,
   "metadata": {
    "collapsed": false
   },
   "outputs": [
    {
     "data": {
      "text/plain": [
       "<module 'neurods' from '/home/choldgraf/.local/lib/python3.5/site-packages/neurods/__init__.py'>"
      ]
     },
     "execution_count": 16,
     "metadata": {},
     "output_type": "execute_result"
    }
   ],
   "source": [
    "from imp import reload\n",
    "import neurods as nds\n",
    "reload(nds.io)\n",
    "reload(nds)"
   ]
  },
  {
   "cell_type": "markdown",
   "metadata": {},
   "source": [
    "# Create student notebooks"
   ]
  },
  {
   "cell_type": "code",
   "execution_count": 17,
   "metadata": {
    "collapsed": false
   },
   "outputs": [
    {
     "name": "stdout",
     "output_type": "stream",
     "text": [
      "Saving to ./cogneuro-dev/weekly_materials/Week03_EventsAndArtifacts/lab_student.ipynb\n"
     ]
    }
   ],
   "source": [
    "_ = nds.io.strip_answers('./cogneuro-dev/weekly_materials/Week03_EventsAndArtifacts/lab.ipynb',\n",
    "                         '### STUDENT ANSWER', 'student')"
   ]
  },
  {
   "cell_type": "markdown",
   "metadata": {},
   "source": [
    "# Create lecturer notebook w/ info removed"
   ]
  },
  {
   "cell_type": "code",
   "execution_count": 18,
   "metadata": {
    "collapsed": false
   },
   "outputs": [
    {
     "name": "stdout",
     "output_type": "stream",
     "text": [
      "Saving to ./cogneuro-dev/weekly_materials/Week03_EventsAndArtifacts/lecture_live.ipynb\n"
     ]
    }
   ],
   "source": [
    "_ = nds.io.strip_answers('./cogneuro-dev/weekly_materials/Week03_EventsAndArtifacts/lecture.ipynb',\n",
    "                         '### TEACHER INFO', 'live', remove_cell=True,\n",
    "                         clean_outputs=False)"
   ]
  },
  {
   "cell_type": "markdown",
   "metadata": {},
   "source": [
    "# Create interact links"
   ]
  },
  {
   "cell_type": "code",
   "execution_count": 22,
   "metadata": {
    "collapsed": false
   },
   "outputs": [
    {
     "name": "stdout",
     "output_type": "stream",
     "text": [
      "Your interactive URL is:\n",
      "---\n",
      "https://data8.berkeley.edu/hub/interact?repo=cogneuro-connector&path=weekly_materials/Week02_PlottingRawData/lecture.ipynb\n",
      "---\n"
     ]
    },
    {
     "data": {
      "text/plain": [
       "'https://data8.berkeley.edu/hub/interact?repo=cogneuro-connector&path=weekly_materials/Week02_PlottingRawData/lecture.ipynb'"
      ]
     },
     "execution_count": 22,
     "metadata": {},
     "output_type": "execute_result"
    }
   ],
   "source": [
    "nds.utils.url_to_interact('https://github.com/data-8/cogneuro-connector/blob/gh-pages/weekly_materials/Week02_PlottingRawData/lecture.ipynb')"
   ]
  },
  {
   "cell_type": "code",
   "execution_count": null,
   "metadata": {
    "collapsed": true
   },
   "outputs": [],
   "source": []
  }
 ],
 "metadata": {
  "kernelspec": {
   "display_name": "Python 3",
   "language": "python",
   "name": "python3"
  },
  "language_info": {
   "codemirror_mode": {
    "name": "ipython",
    "version": 3
   },
   "file_extension": ".py",
   "mimetype": "text/x-python",
   "name": "python",
   "nbconvert_exporter": "python",
   "pygments_lexer": "ipython3",
   "version": "3.5.2"
  }
 },
 "nbformat": 4,
 "nbformat_minor": 0
}
