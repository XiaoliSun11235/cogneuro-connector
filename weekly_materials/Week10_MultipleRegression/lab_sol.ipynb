{
 "cells": [
  {
   "cell_type": "markdown",
   "metadata": {},
   "source": [
    "We saw in lecture how to estimate regression weights for individual variables. In this lab we will do it again for two examples.\n",
    "\n",
    "# Predicting wine quality\n",
    "\n",
    "First, we will work with a UCI database dataset: https://archive.ics.uci.edu/ml/datasets/Wine+Quality\n",
    "\n",
    "Reference:\n",
    "Paulo Cortez, University of Minho, Guimarães, Portugal, http://www3.dsi.uminho.pt/pcortez \n",
    "A. Cerdeira, F. Almeida, T. Matos and J. Reis, Viticulture Commission of the Vinho Verde Region(CVRVV), Porto, Portugal \n",
    "@2009\n",
    "\n",
    "We have 11 attributes for more than 1500 red wines, as well as a rating for their quality (e.g. acidity, alcohol content). We want to build a model that predicts the quality of a wine as a function of it's other attributes. \n"
   ]
  },
  {
   "cell_type": "code",
   "execution_count": null,
   "metadata": {
    "collapsed": true
   },
   "outputs": [],
   "source": [
    "import numpy as np\n",
    "import cortex\n",
    "import os\n",
    "import neurods as nds\n",
    "from scipy.stats import zscore\n",
    "import matplotlib.pyplot as plt\n",
    "from numpy.linalg import inv\n",
    "%matplotlib inline"
   ]
  },
  {
   "cell_type": "markdown",
   "metadata": {},
   "source": [
    "This code here loads the dataset, and creates wine_quality, which is our output and 11 features of the wine, wine_features."
   ]
  },
  {
   "cell_type": "code",
   "execution_count": null,
   "metadata": {
    "collapsed": false
   },
   "outputs": [],
   "source": [
    "import csv\n",
    "data_name = '/home/shared/cogneuro-connector/data/Week10_MultipleRegression/winequality-red.txt'\n",
    "with open(data_name) as f:\n",
    "    reader = csv.reader(f, delimiter=\"\\t\")\n",
    "    d = list(reader)\n",
    "input_features_names = d[0][:-1]\n",
    "all_values = np.array(d[1:]).astype(float)\n",
    "wine_quality = all_values[:,-1]\n",
    "wine_features = all_values[:,:-1]\n",
    "print('the input shape is {}'.format(wine_features.shape))\n",
    "print('the output shape is {}'.format(wine_quality.shape))"
   ]
  },
  {
   "cell_type": "markdown",
   "metadata": {},
   "source": [
    "The 11 features of a wine are:"
   ]
  },
  {
   "cell_type": "code",
   "execution_count": null,
   "metadata": {
    "collapsed": false
   },
   "outputs": [],
   "source": [
    "print(input_features_names)"
   ]
  },
  {
   "cell_type": "markdown",
   "metadata": {},
   "source": [
    "This is what they look like for the 1599 wines we have:"
   ]
  },
  {
   "cell_type": "code",
   "execution_count": null,
   "metadata": {
    "collapsed": false
   },
   "outputs": [],
   "source": [
    "plt.plot(wine_features);\n",
    "plt.xlabel('different wines');\n",
    "plt.title('wine features')\n",
    "plt.legend(input_features_names,frameon=False, bbox_to_anchor=(1.5, 1));"
   ]
  },
  {
   "cell_type": "markdown",
   "metadata": {},
   "source": [
    "Each feature has a different scale naturally. We will therefore normalize them, and normalize the output:"
   ]
  },
  {
   "cell_type": "code",
   "execution_count": null,
   "metadata": {
    "collapsed": false
   },
   "outputs": [],
   "source": [
    "# normalize\n",
    "X = zscore(wine_features, axis = 0)\n",
    "Y = zscore(wine_quality)\n",
    "\n",
    "# replot\n",
    "plt.plot(X);\n",
    "plt.xlabel('different wines');\n",
    "plt.ylabel('normalized scale');\n",
    "plt.title('normalized wine features')\n",
    "plt.legend(input_features_names, frameon=False, bbox_to_anchor=(1.5, 1));"
   ]
  },
  {
   "cell_type": "markdown",
   "metadata": {},
   "source": [
    "#### Q1: Using regression, find the name of the feature that seems to most affect the quality of the wine:"
   ]
  },
  {
   "cell_type": "code",
   "execution_count": null,
   "metadata": {
    "collapsed": false
   },
   "outputs": [],
   "source": [
    "### STUDENT ANSWER:\n",
    "def OLS(X,Y):\n",
    "    return np.dot(inv(np.dot(X.T,X)), np.dot(X.T,Y))\n",
    "weights = OLS(X,Y)\n",
    "plt.plot(weights);\n",
    "plt.xticks(range(11),input_features_names,rotation=70)\n",
    "plt.xlabel('wine features')\n",
    "plt.ylabel('weight magnitude')\n",
    "num_max = np.argmax(weights)\n",
    "print('the feature that is the most predictive is {}'.format(input_features_names[num_max]))"
   ]
  },
  {
   "cell_type": "markdown",
   "metadata": {},
   "source": [
    "# Estimating voxel responses\n",
    "\n",
    "Let's go back to the categories experiments we were discussing in the lecture:"
   ]
  },
  {
   "cell_type": "code",
   "execution_count": null,
   "metadata": {
    "collapsed": false
   },
   "outputs": [],
   "source": [
    "# load subject info\n",
    "sub, xfm = 'S2', 'S2_category_auto'\n",
    "mask = cortex.db.get_mask(sub, xfm, type='cortical')\n",
    "basedir = os.path.join(nds.io.data_list['fmri'],'categories')\n",
    "\n",
    "# load design\n",
    "design = np.load(os.path.join(basedir,'experiment_design.npz'))\n",
    "conditions = design['conditions'].tolist()\n",
    "\n",
    "# fmri responses:\n",
    "fname = os.path.join(basedir, 'S2_categories1_{n}.nii.gz') \n",
    "Y = np.vstack([zscore(nds.fmri.load_data(fname.format(n=n), mask=mask, \n",
    "                                         standardize=True)) for n in [1,2]])\n",
    "\n",
    "# stimuli:\n",
    "X = np.vstack([design[run] for run in ['run1','run2']])\n",
    "n,d = X.shape\n",
    "conv_X = np.zeros_like(X)\n",
    "\n",
    "# convolve stimuli:\n",
    "from neurods.fmri import hrf as generate_hrf\n",
    "t_hrf, hrf_2 = generate_hrf(tr=2)\n",
    "for i in range(d):\n",
    "    conv_X[:,i] = np.convolve(X[:,i], hrf_2)[:n]"
   ]
  },
  {
   "cell_type": "markdown",
   "metadata": {},
   "source": [
    "As we saw in lab, we have 5 different conditions:"
   ]
  },
  {
   "cell_type": "code",
   "execution_count": null,
   "metadata": {
    "collapsed": false
   },
   "outputs": [],
   "source": [
    "print(conditions)"
   ]
  },
  {
   "cell_type": "markdown",
   "metadata": {},
   "source": [
    "#### Q2: Constructing a contrast map:\n",
    "- Estimate the magnitude of the brain response to the stimulus, like we did in class. \n",
    "- Find the difference between the magnitude of the response for faces, and for places for each voxel.\n",
    "- Make a flatmap of the difference.\n",
    "- What do regions with high values correspond to? What do the regions with low values correspond to?\n",
    "\n",
    "Hints:\n",
    "- You need to subtract the vectors corresponding to places from the one corresponding to faces.\n",
    "- You can use the variable conditions to find which dimension is which.\n"
   ]
  },
  {
   "cell_type": "code",
   "execution_count": null,
   "metadata": {
    "collapsed": false
   },
   "outputs": [],
   "source": [
    "### STUDENT ANSWER\n",
    "def OLS(X,Y):\n",
    "    return np.dot(inv(np.dot(X.T,X)), np.dot(X.T,Y))\n",
    "weights = OLS(conv_X, Y)\n",
    "print('shape of weights is {}'.format(weights.shape))\n",
    "condition1 = 1\n",
    "condition2 = 3\n",
    "vol = cortex.Volume(weights[condition1]-weights[condition2], sub, xfm, mask = mask)\n",
    "__  = cortex.quickflat.make_figure(vol);\n",
    "plt.title('{0} > {1}'.format(conditions[condition1],conditions[condition2]), fontsize = 30);\n",
    "print('Dark red regions are regions that respond strongly to faces and not to places.')\n",
    "print('Dark blue regions are regions that respond strongly to places and not to faces.') "
   ]
  }
 ],
 "metadata": {
  "kernelspec": {
   "display_name": "Python 3",
   "language": "python",
   "name": "python3"
  },
  "language_info": {
   "codemirror_mode": {
    "name": "ipython",
    "version": 3
   },
   "file_extension": ".py",
   "mimetype": "text/x-python",
   "name": "python",
   "nbconvert_exporter": "python",
   "pygments_lexer": "ipython3",
   "version": "3.5.2"
  }
 },
 "nbformat": 4,
 "nbformat_minor": 0
}
