{
 "cells": [
  {
   "cell_type": "markdown",
   "metadata": {},
   "source": [
    "# Admin Stuff\n",
    "\n",
    "## Grading rubric\n",
    "The homeworks will be graded on the following rubric:\n",
    "\n",
    "* In each lab, there are open cells labeled \"student answer\". These are cells for student input as responses to questions, either with code or with written text.\n",
    "* Each cell will be worth 1 point. They will be graded on your attempt to solve them, not based on correctness.\n",
    "* If you completed and or gave a good attempt at all parts of the question, then you'll get 1 point.\n",
    "* If you only completed some of a question, you'll get .5 points.\n",
    "* If you didn't complete any of the question, you'll get 0 points.\n",
    "* Then we'll calculate the % points you got, and give you that value out of a total of 1 possible point per homework.\n",
    " \n",
    "You need to address each bullet point in the preceding question prompt in your answer below.\n",
    "\n",
    "## Midterm\n",
    "The midterm is going to follow the homework format closely. It will be a recap of the things we've asked you to do in weeks 1-5 (up to time-frequency analysis). If you are comfortable with all of the previous homeworks, then you will be in good shape for the midterm.\n",
    "\n",
    "We'll take up the entire 2 hours next week for the midterm. However we'll design the exam to on average take much less time than this. The midterm will be open-note during class.\n",
    "\n",
    "At the end of class, you will submit your midterm as a jupyter notebook PDF to bCourses, in the same way we've already done.\n",
    "\n",
    "## Misc\n",
    "* Don't forget to use `%matplotlib inline` before you make plots so that they show up in the homework.\n",
    "\n",
    "\n",
    "# Recap from last week\n",
    "## Creating an events array\n",
    "Say we have the following `Raw` object:"
   ]
  },
  {
   "cell_type": "code",
   "execution_count": 5,
   "metadata": {
    "collapsed": true
   },
   "outputs": [],
   "source": [
    "import neurods as nds\n",
    "import mne\n",
    "import datascience as ds"
   ]
  },
  {
   "cell_type": "code",
   "execution_count": 8,
   "metadata": {
    "collapsed": false
   },
   "outputs": [
    {
     "name": "stdout",
     "output_type": "stream",
     "text": [
      "Opening raw data file /home/shared/cogneuro-connector/data/ecog/chords_task/ecog_resamp-raw.fif...\n",
      "Isotrak not found\n",
      "    Range : 0 ... 219521 =      0.000 ...   439.042 secs\n",
      "Ready.\n",
      "Reading 0 ... 219521  =      0.000 ...   439.042 secs...\n"
     ]
    },
    {
     "data": {
      "text/html": [
       "<table border=\"1\" class=\"dataframe\">\n",
       "    <thead>\n",
       "        <tr>\n",
       "            <th>start</th> <th>type</th> <th>stop</th>\n",
       "        </tr>\n",
       "    </thead>\n",
       "    <tbody>\n",
       "        <tr>\n",
       "            <td>4.96914</td> <td>consonant</td> <td>5.66914</td>\n",
       "        </tr>\n",
       "    </tbody>\n",
       "        <tr>\n",
       "            <td>10.0105</td> <td>consonant</td> <td>10.7105</td>\n",
       "        </tr>\n",
       "    </tbody>\n",
       "        <tr>\n",
       "            <td>28.3729</td> <td>consonant</td> <td>29.0729</td>\n",
       "        </tr>\n",
       "    </tbody>\n",
       "        <tr>\n",
       "            <td>47.8371</td> <td>consonant</td> <td>48.5371</td>\n",
       "        </tr>\n",
       "    </tbody>\n",
       "        <tr>\n",
       "            <td>58.3871</td> <td>consonant</td> <td>59.0871</td>\n",
       "        </tr>\n",
       "    </tbody>\n",
       "        <tr>\n",
       "            <td>65.2148</td> <td>consonant</td> <td>65.9148</td>\n",
       "        </tr>\n",
       "    </tbody>\n",
       "        <tr>\n",
       "            <td>75.5478</td> <td>consonant</td> <td>76.2478</td>\n",
       "        </tr>\n",
       "    </tbody>\n",
       "        <tr>\n",
       "            <td>81.1567</td> <td>consonant</td> <td>81.8567</td>\n",
       "        </tr>\n",
       "    </tbody>\n",
       "        <tr>\n",
       "            <td>84.729 </td> <td>consonant</td> <td>85.429 </td>\n",
       "        </tr>\n",
       "    </tbody>\n",
       "        <tr>\n",
       "            <td>86.5149</td> <td>consonant</td> <td>87.2149</td>\n",
       "        </tr>\n",
       "    </tbody>\n",
       "</table>\n",
       "<p>... (95 rows omitted)</p"
      ],
      "text/plain": [
       "start   | type      | stop\n",
       "4.96914 | consonant | 5.66914\n",
       "10.0105 | consonant | 10.7105\n",
       "28.3729 | consonant | 29.0729\n",
       "47.8371 | consonant | 48.5371\n",
       "58.3871 | consonant | 59.0871\n",
       "65.2148 | consonant | 65.9148\n",
       "75.5478 | consonant | 76.2478\n",
       "81.1567 | consonant | 81.8567\n",
       "84.729  | consonant | 85.429\n",
       "86.5149 | consonant | 87.2149\n",
       "... (95 rows omitted)"
      ]
     },
     "execution_count": 8,
     "metadata": {},
     "output_type": "execute_result"
    }
   ],
   "source": [
    "path_ecog = nds.io.data_list['ecog'] + 'chords_task/'\n",
    "data = mne.io.Raw(path_ecog + 'ecog_resamp-raw.fif', preload=True)\n",
    "time = ds.Table.read_table(path_ecog + 'meta_time.csv', index_col=0)\n",
    "time"
   ]
  },
  {
   "cell_type": "markdown",
   "metadata": {},
   "source": [
    "How can we convert this \"time\" information into a series of MNE events that we can use to turn our `Raw` object into an `Epochs` object?"
   ]
  },
  {
   "cell_type": "code",
   "execution_count": null,
   "metadata": {
    "collapsed": true
   },
   "outputs": [],
   "source": []
  }
 ],
 "metadata": {
  "kernelspec": {
   "display_name": "Python 3",
   "language": "python",
   "name": "python3"
  },
  "language_info": {
   "codemirror_mode": {
    "name": "ipython",
    "version": 3
   },
   "file_extension": ".py",
   "mimetype": "text/x-python",
   "name": "python",
   "nbconvert_exporter": "python",
   "pygments_lexer": "ipython3",
   "version": "3.5.2"
  }
 },
 "nbformat": 4,
 "nbformat_minor": 0
}
