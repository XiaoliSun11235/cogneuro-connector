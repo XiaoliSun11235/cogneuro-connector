{
 "cells": [
  {
   "cell_type": "markdown",
   "metadata": {},
   "source": [
    "# Lab / Homework\n",
    "In a real experiment, you often end up with data (in a [time x voxels] array) that you want to interpret in terms of events in the world (say, stimulus onset times). Onset times take the form of a vector of indices or times. Here's a dummy example:"
   ]
  },
  {
   "cell_type": "code",
   "execution_count": null,
   "metadata": {
    "collapsed": false
   },
   "outputs": [],
   "source": [
    "import numpy as np\n",
    "n_tps = 200 \n",
    "n_voxels = 30 \n",
    "data = np.random.randn(n_tps, n_voxels)\n",
    "\n",
    "onsets = range(5, n_tps, 20)\n",
    "print(list(onsets))"
   ]
  },
  {
   "cell_type": "markdown",
   "metadata": {},
   "source": [
    "Write a function that computes the average timecourse of a data set for 10 samples after each condition onset. The inputs to the function should be `data` and `onsets`, and the output for the function for the above example dummy data should be an array of size [10 x 30] (10 time points per voxel). "
   ]
  },
  {
   "cell_type": "code",
   "execution_count": null,
   "metadata": {
    "collapsed": true
   },
   "outputs": [],
   "source": []
  }
 ],
 "metadata": {
  "kernelspec": {
   "display_name": "Python [py35]",
   "language": "python",
   "name": "Python [py35]"
  },
  "language_info": {
   "codemirror_mode": {
    "name": "ipython",
    "version": 3
   },
   "file_extension": ".py",
   "mimetype": "text/x-python",
   "name": "python",
   "nbconvert_exporter": "python",
   "pygments_lexer": "ipython3",
   "version": "3.5.2"
  }
 },
 "nbformat": 4,
 "nbformat_minor": 0
}
