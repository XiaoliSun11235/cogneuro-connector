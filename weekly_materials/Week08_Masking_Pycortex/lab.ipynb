{
 "cells": [
  {
   "cell_type": "markdown",
   "metadata": {
    "collapsed": false
   },
   "source": [
    "# Lab / Homework\n",
    "\n",
    "1. Last week you wrote a function that loads fMRI data from a nifti file. Expand this function to have the following arguments: \n",
    "    - to convert the timecourse for each voxel to standard scores, \n",
    "    - and to mask the data. \n",
    "\n",
    "3. Write a function (as general as possible) to unmask data. You should be able to apply this unmasking function to 1D data (to retrieve a single volume) or to 2D data (to retrieve a 4D volume timecourse)."
   ]
  },
  {
   "cell_type": "code",
   "execution_count": null,
   "metadata": {
    "collapsed": true
   },
   "outputs": [],
   "source": []
  }
 ],
 "metadata": {
  "kernelspec": {
   "display_name": "Python 3",
   "language": "python",
   "name": "python3"
  },
  "language_info": {
   "codemirror_mode": {
    "name": "ipython",
    "version": 3
   },
   "file_extension": ".py",
   "mimetype": "text/x-python",
   "name": "python",
   "nbconvert_exporter": "python",
   "pygments_lexer": "ipython3",
   "version": "3.5.2"
  }
 },
 "nbformat": 4,
 "nbformat_minor": 0
}
