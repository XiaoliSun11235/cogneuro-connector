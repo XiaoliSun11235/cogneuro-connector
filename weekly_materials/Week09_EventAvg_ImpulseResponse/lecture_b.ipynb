{
 "cells": [
  {
   "cell_type": "markdown",
   "metadata": {},
   "source": [
    "# Overview\n",
    "\n",
    "In the last lab, we computed event-related averages for responses to different categories of objects. We saw that response in fMRI emerge slowly (2-3 TRs or 4-6 seconds) after the onset of a stimulus. Fundamentally, the most common thing that we want to know in fMRI experiments is how some event is related to brain responses. The event related averages show us that some areas of the brain respond more to some stimuli than others, but we would like a more firm statistical basis before we draw any conclusions from our data. This week, we will introduce how to model the delay in that data.\n",
    "\n",
    "# Goals\n",
    "\n",
    "We will show you how to account for the delay in the fMRI signal after a stimulus or other event. "
   ]
  },
  {
   "cell_type": "code",
   "execution_count": null,
   "metadata": {
    "collapsed": false
   },
   "outputs": [],
   "source": [
    "# Imports\n",
    "import neurods as nds\n",
    "import numpy as np\n",
    "import matplotlib.pyplot as plt\n",
    "# Configure defaults for plots\n",
    "plt.rcParams['image.interpolation'] = 'nearest'\n",
    "plt.rcParams['image.aspect'] = 'auto'\n",
    "plt.rcParams['image.cmap'] = 'viridis'\n",
    "# New defaults!\n",
    "from cycler import cycler\n",
    "plt.rcParams['axes.grid'] = True\n",
    "plt.rcParams['axes.prop_cycle'] = cycler('color', ['k','r', (0,0,0.8),(0.95,0.8,0),(0,.8,0),(1.0, 0.5, 0)])"
   ]
  },
  {
   "cell_type": "code",
   "execution_count": null,
   "metadata": {
    "collapsed": true
   },
   "outputs": [],
   "source": [
    "# Update neurods\n",
    "nds.io.update_neurods()"
   ]
  },
  {
   "cell_type": "code",
   "execution_count": null,
   "metadata": {
    "collapsed": true
   },
   "outputs": [],
   "source": [
    "%matplotlib inline\n",
    "# %config InlineBackend.figure_format = 'retina' # prettier plots for retina screens (optional)"
   ]
  },
  {
   "cell_type": "markdown",
   "metadata": {},
   "source": [
    "# fMRI responses do not occur immediately after a stimulus\n",
    "\n",
    "fMRI responses emerge slowly after the onset of a stimulus (or any other event). This means that, if we want to make an accurate mathematical model of how the brain responds, we have to somehow incorporate this delay into our model. \n",
    "\n",
    "To do this, we will borrow a concept from signal processing theory called the impulse response function. An impulse response function describes the way a signal emerges (for any system) after an event. The way the BOLD response emerges after an experimental event is called the *hemodynamic response function* or HRF. \n",
    "\n",
    "A great deal of early fMRI research went into accurately describing how the BOLD signal rises, falls, and resets to baseline after an event. We will rely on the conclusions of this research without going into much detail about it. For an overview of hemodynamic responses in fMRI, check out [this blog post](http://mindhive.mit.edu/node/72), and the papers in the `figures/` directory for week 8 (Handwerker, Bandettini et al 2012; Logothetis & Wandell, 2004). The practical upshot of this work is that BOLD responses have a fairly characteristic shape, which is well described by a mathematical function called a *gamma function*. \n",
    "\n",
    "We have provided you with a function to produce this canonical HRF within the neurods module: \n",
    "\n",
    "    nds.fmri.hrf()"
   ]
  },
  {
   "cell_type": "code",
   "execution_count": null,
   "metadata": {
    "collapsed": false
   },
   "outputs": [],
   "source": [
    "# Set the TR, or repetition time, a.k.a. the sampling rate for our data\n",
    "\n",
    "TR = 1.0 # One measurement per second\n",
    "\n",
    "# let's import a function that makes hrfs:\n",
    "from nds.fmri import hrf as generate_hfr\n",
    "\n",
    "# Get a canonical hrf_1\n",
    "t_hrf, hrf_1 = generate_hfr(tr=TR)\n",
    "print('hrf_1 shape is', hrf_1.shape)\n",
    "__ = plt.plot(t_hrf,hrf_1)\n"
   ]
  },
  {
   "cell_type": "code",
   "execution_count": null,
   "metadata": {
    "collapsed": false
   },
   "outputs": [],
   "source": [
    "# This is a response to a single discrete stimulus appearing at time 0, like this:\n",
    "t = t_hrf\n",
    "stimulus = np.zeros(t.shape)\n",
    "stimulus[0] = 1\n",
    "\n",
    "# We will be plotting stimulus / response pairs several times, so let's \n",
    "# just make a function for this right away.\n",
    "def stim_resp_plot(t, stimulus, response, yl=(-0.2, 1.2)):\n",
    "    \"\"\"Plot stimulus and response\"\"\"\n",
    "    plt.figure(figsize=(10,4))\n",
    "    # Note stem() function!\n",
    "    plt.stem(t, stimulus, linefmt='k-', markerfmt='.', basefmt='k-', label='Stimulus')\n",
    "    plt.plot(t, response, 'r.-', label='BOLD response')\n",
    "    plt.ylim(yl)\n",
    "    plt.xlim([-1,t.max()+1])\n",
    "    plt.xlabel('Time (seconds)')\n",
    "    plt.ylabel('Response (arbitrary units)')\n",
    "    _ = plt.legend()\n",
    "\n",
    "# Plot\n",
    "stim_resp_plot(t, stimulus, hrf_1)"
   ]
  },
  {
   "cell_type": "markdown",
   "metadata": {},
   "source": [
    "Play with the parameters of the hrf() function. See what happens if you change them. "
   ]
  },
  {
   "cell_type": "code",
   "execution_count": null,
   "metadata": {
    "collapsed": false
   },
   "outputs": [],
   "source": [
    "### STUDENT ANSWER\n",
    "pkw = dict(marker='.')\n",
    "plt.plot(*nds.fmri.hrf(), **pkw)\n",
    "plt.plot(*nds.fmri.hrf(pttp=8), **pkw)\n",
    "plt.plot(*nds.fmri.hrf(pttp=8, tr=2), **pkw)"
   ]
  },
  {
   "cell_type": "markdown",
   "metadata": {},
   "source": [
    "Every time an event occurs, this slow hemodynamic response emerges. We will slowly explore how this hemodynamic response can affect the signal in a voxel.\n",
    "\n",
    "First, we start with a hypothetical run of 200 TRs, in which no stimuli is presented."
   ]
  },
  {
   "cell_type": "code",
   "execution_count": null,
   "metadata": {
    "collapsed": false
   },
   "outputs": [],
   "source": [
    "n = 200 # Total time points (TRs)\n",
    "t = np.arange(n,)\n",
    "# no stimulus\n",
    "stimuli = np.zeros((n))\n",
    "# we assume no response\n",
    "response = np.zeros((n))\n",
    "# here we plot the function\n",
    "stim_resp_plot(t, stimuli, response, yl=(-0.2, 1.2))\n",
    "# and see nothing as predicted."
   ]
  },
  {
   "cell_type": "markdown",
   "metadata": {},
   "source": [
    "We saw above how the time changes when we have a stimulus at time 0. Imagine we have a stimulus at time i=10. What would happen then to the activity? Just assume that this stimulus will create an hrf that will be *added* to the signal from times i to times i + hrf_length (hrf_length is the length of our theoretical hrf, which was 32 above).\n",
    "\n",
    "Attention: make sure you modify response by adding something to it's values, and not just changing it."
   ]
  },
  {
   "cell_type": "code",
   "execution_count": null,
   "metadata": {
    "collapsed": false
   },
   "outputs": [],
   "source": [
    "t_hrf, hrf_1 = generate_hfr(tr=TR)\n",
    "hrf_length = len(hrf_1)\n",
    "n = 200\n",
    "t = np.arange(n,)\n",
    "stimuli = np.zeros((n))\n",
    "response = np.zeros((n))\n",
    "\n",
    "i = 10\n",
    "stimuli[i] = 1\n",
    "\n",
    "# now add the response to stimulus i to the response, then plot using stim_resp_plot like above\n",
    "### STUDENT ANSWER\n",
    "response[range(i,i+hrf_length)] += hrf_1\n",
    "stim_resp_plot(t, stimuli, response, yl=(-0.2, 1.2))"
   ]
  },
  {
   "cell_type": "markdown",
   "metadata": {},
   "source": [
    "Now let's say that there were 3 stimuli, one at 10, one at 70 and one at 150, plot the resulting activity. "
   ]
  },
  {
   "cell_type": "code",
   "execution_count": null,
   "metadata": {
    "collapsed": false
   },
   "outputs": [],
   "source": [
    "t_hrf, hrf_1 = generate_hfr(tr=TR)\n",
    "hrf_length = len(hrf_1)\n",
    "n = 200\n",
    "t = np.arange(n,)\n",
    "stimuli = np.zeros((n))\n",
    "response = np.zeros((n))\n",
    "\n",
    "stim_times = [10, 70, 150]\n",
    "for i in stim_times:\n",
    "    stimuli[i] = 1\n",
    "\n",
    "# now add the response to those stimuli i, then plot using stim_resp_plot like above\n",
    "### STUDENT ANSWER\n",
    "for i in stim_times:\n",
    "    response[range(i,i+hrf_length)] += hrf_1\n",
    "stim_resp_plot(t, stimuli, response, yl=(-0.2, 1.2))"
   ]
  },
  {
   "cell_type": "markdown",
   "metadata": {},
   "source": [
    "Now say that the stimuli are closer together than the length of the hemodynamic function: let's say they occur at times 10, 21, 25, 70, 71,74, 75, 80 and 150, what happens? "
   ]
  },
  {
   "cell_type": "code",
   "execution_count": null,
   "metadata": {
    "collapsed": false
   },
   "outputs": [],
   "source": [
    "t_hrf, hrf_1 = generate_hfr(tr=TR)\n",
    "hrf_length = len(hrf_1)\n",
    "n = 200\n",
    "t = np.arange(n,)\n",
    "stimuli = np.zeros((n))\n",
    "response = np.zeros((n))\n",
    "\n",
    "stim_times = [10,21,25, 70, 75, 80, 150]\n",
    "for i in stim_times:\n",
    "    stimuli[i] = 1\n",
    "\n",
    "# now add the response to stimulus i to the response, then plot using stim_resp_plot like above\n",
    "### STUDENT ANSWER\n",
    "for i in stim_times:\n",
    "    response[range(i,i+hrf_length)] += hrf_1\n",
    "stim_resp_plot(t, stimuli, response, yl=(-0.2, 1.2))"
   ]
  },
  {
   "cell_type": "markdown",
   "metadata": {},
   "source": [
    "What happens to your script if the stimulus appears at time 180? If it breaks, you need to make a change involving the min function."
   ]
  },
  {
   "cell_type": "code",
   "execution_count": null,
   "metadata": {
    "collapsed": false
   },
   "outputs": [],
   "source": [
    "t_hrf, hrf_1 = generate_hfr(tr=TR)\n",
    "hrf_length = 32\n",
    "n = 200\n",
    "t = np.arange(n,)\n",
    "stimuli = np.zeros((n))\n",
    "response = np.zeros((n))\n",
    "\n",
    "stim_times = [190]\n",
    "for i in stim_times:\n",
    "    stimuli[i] = 1\n",
    "\n",
    "# now add the response to stimulus i to the response, then plot using stim_resp_plot like above\n",
    "### STUDENT ANSWER\n",
    "for i in stim_times:\n",
    "    index = range(i, min(i+hrf_length,n) )\n",
    "    response[index] += hrf_1[:len(index)]\n",
    "stim_resp_plot(t, stimuli, response, yl=(-0.2, 1.2))"
   ]
  },
  {
   "cell_type": "markdown",
   "metadata": {},
   "source": [
    "Now write a function that will produce the correct response vectors given the stimulus vector and the hrf_1 vector. Make sure that the function will go over every element in the stimulus vector. You might need to do an adjustment."
   ]
  },
  {
   "cell_type": "code",
   "execution_count": null,
   "metadata": {
    "collapsed": false
   },
   "outputs": [],
   "source": [
    "t_hrf, hrf_1 = generate_hfr(tr=TR)\n",
    "hrf_length = len(hrf_1)\n",
    "n = 200\n",
    "t = np.arange(n,)\n",
    "stimuli = np.zeros((n))\n",
    "\n",
    "stim_times = [10,21,25, 70, 75, 80, 150]\n",
    "for i in stim_times:\n",
    "    stimuli[i] = 1\n",
    "\n",
    "# define your function here, then use it to generate output and plot the above plots:\n",
    "def gen_responses(stimulus_vec, hrf_canonical):\n",
    "    n = stimulus_vec.shape[0]\n",
    "    hrf_length = len(hrf_canonical)\n",
    "    response = np.zeros((n,))\n",
    "    for i in range(n):\n",
    "### STUDENT ANSWER\n",
    "        if stimulus_vec[i]==1: # one way to do it: only if I have a stimulus, I will add a response\n",
    "            index = range(i, min(i+hrf_length,n) )\n",
    "            response[index] += hrf_canonical[:len(index)]\n",
    "    return response\n",
    "\n",
    "response = gen_responses(stimuli,hrf_1)\n",
    "stim_resp_plot(t, stimuli, response, yl=(-0.2, 1.2))"
   ]
  },
  {
   "cell_type": "markdown",
   "metadata": {},
   "source": [
    "Now assume that the stimulus occurs with different intensities: for example, a tactile stimulus with different levels of intensities. The assumption is that the response from the occurence of each feature is proportional to the intensity of the feature. If your code doesn't account for this, you should change it:"
   ]
  },
  {
   "cell_type": "code",
   "execution_count": null,
   "metadata": {
    "collapsed": false
   },
   "outputs": [],
   "source": [
    "t_hrf, hrf_1 = generate_hfr(tr=TR)\n",
    "hrf_length = len(hrf_1)\n",
    "n = 200\n",
    "t = np.arange(n,)\n",
    "stimuli = np.zeros((n))\n",
    "\n",
    "stim_times = [10,21,25, 70, 75, 80, 150]\n",
    "stim_intensities = [0.25,0.25,1, 1, 1, 0.5, 0.5]\n",
    "for idx, i_time in enumerate(stim_times):\n",
    "    stimuli[i_time] = stim_intensities[idx]\n",
    "\n",
    "# define your function here, then use it to generate output and plot the above plots:\n",
    "def gen_responses(stimulus_vec, hrf_canonical):\n",
    "    n = stimulus_vec.shape[0]\n",
    "    hrf_length = len(hrf_canonical)\n",
    "    response = np.zeros((n,))\n",
    "    for i in range(n):\n",
    "### STUDENT ANSWER\n",
    "        index = range(i, min(i+hrf_length,n) )\n",
    "        response[index] +=  stimuli[i]*hrf_canonical[:len(index)]\n",
    "    return response\n",
    "\n",
    "response = gen_responses(stimuli,hrf_1)\n",
    "stim_resp_plot(t, stimuli, response, yl=(-0.2, 1.2))"
   ]
  },
  {
   "cell_type": "code",
   "execution_count": null,
   "metadata": {
    "collapsed": true
   },
   "outputs": [],
   "source": [
    "### TEACHER NOTE\n",
    "# Make sure to specify that the new hrfs should be added, i.e. the signal shouldn't \n",
    "# just be changed directly."
   ]
  },
  {
   "cell_type": "markdown",
   "metadata": {},
   "source": [
    "Now let's say we have a _blocked_ stimulus, i.e. the simulus is on for 30 seconds, starting at 10, 70 and 130:"
   ]
  },
  {
   "cell_type": "code",
   "execution_count": null,
   "metadata": {
    "collapsed": false
   },
   "outputs": [],
   "source": [
    "t_hrf, hrf_1 = generate_hfr(tr=TR)\n",
    "hrf_length = 32\n",
    "n = 200\n",
    "t = np.arange(n,)\n",
    "stimuli = np.zeros((n))\n",
    "\n",
    "stim_times = list(range(10,40)) + list(range(70,100))+ list(range(130,160))\n",
    "for i in stim_times:\n",
    "    stimuli[i] = 1\n",
    "\n",
    "# you can use your function here again, then use it to generate output and plot the above plots:\n",
    "def gen_responses(stimulus_vec, hrf_canonical):\n",
    "    n = stimulus_vec.shape[0]\n",
    "    hrf_length = len(hrf_canonical)\n",
    "    response = np.zeros((n,))\n",
    "    for i in range(n):\n",
    "### STUDENT ANSWER\n",
    "        index = range(i, min(i+hrf_length,n) )\n",
    "        response[index] +=  stimuli[i]*hrf_canonical[:len(index)]\n",
    "    return response\n",
    "\n",
    "response = gen_responses(stimuli,hrf_1)\n",
    "stim_resp_plot(t, stimuli, response, yl=(-0.2, 1.2))"
   ]
  },
  {
   "cell_type": "markdown",
   "metadata": {},
   "source": [
    "Effectively, a train of 30 spikes at the sampling frequency 1s is the same as having a constant step function for 30 seconds. What we did above is called a convolution: we have a signal, the stimulus. This signal is going to be modified by a function, the hrf in our case. Convolution is an integration operation where you integrate an initial signal with a modifying function, in a way that reflects how previous values of the signal (before time i) affect the new transformed signal (at time i). What we did above is a simplified integration: we are working in discrete time and we manually added the contributions at each time. \n",
    "\n",
    "<img src=\"wikipedia_box_convolution.gif\">\n",
    "\n",
    "This is what we did:\n",
    "Let's call $T$ the length of the HRF. We went though the stimulus and made it affect the response at later stages. At the end, every value of the response $r(i)$ will have contributions to the stimulus $s$ from the previous $T$ time points:\n",
    "\n",
    "$r(i) = s(i-1) \\times hrf(1) +  s(i-2) \\times hrf(2) + ... +  s(i-T+1)  \\times hrf(T) \\\\\n",
    "  \\ \\ \\   = \\Sigma_{\\tau=1}^{T} s(i-\\tau) \\times h(\\tau)$\n",
    "\n",
    "This is exactly the expression of the discrete convolution function between functions $s$ and $h$. In continuous time, the convolution operation is written as:\n",
    "\n",
    "$r(i) = \\int_{\\tau=1}^{T} s(i-\\tau) \\times h(\\tau) = s \\ast h(i)$\n",
    "\n",
    "Here we will use a numpy function that is already implemented for this:"
   ]
  },
  {
   "cell_type": "code",
   "execution_count": null,
   "metadata": {
    "collapsed": false
   },
   "outputs": [],
   "source": [
    "t_hrf, hrf_1 = generate_hfr(tr=TR)\n",
    "hrf_length = 32\n",
    "n = 200\n",
    "t = np.arange(n,)\n",
    "stimuli = np.zeros((n))\n",
    "#response = np.zeros((n))\n",
    "\n",
    "stim_times = list(range(10,40)) + list(range(70,100))+ list(range(130,160))\n",
    "for i in stim_times:\n",
    "    stimuli[i] = 1\n",
    "\n",
    "response = np.convolve(stimuli, hrf_1, mode='full')\n",
    "print('resulting response has length {} and should be cropped'.format(len(response)))\n",
    "# Here we also have to crop the signal because np.convolve creates a signal longer than n\n",
    "# because it computes the response of stimuli appearing up to time n-1, which affect the \n",
    "# signal for longer than n.\n",
    "stim_resp_plot(t, stimuli, response[:n], yl=(-0.2, 1.2))"
   ]
  },
  {
   "cell_type": "markdown",
   "metadata": {},
   "source": [
    "Let's look at another example: the convolution of a simple periodic signal with the HRF function."
   ]
  },
  {
   "cell_type": "code",
   "execution_count": null,
   "metadata": {
    "collapsed": false
   },
   "outputs": [],
   "source": [
    "t_hrf, hrf_1 = generate_hfr(tr=TR)\n",
    "hrf_length = 32\n",
    "n = 200\n",
    "t = np.arange(n,)\n",
    "stimuli = np.zeros((n))\n",
    "#response = np.zeros((n))\n",
    "\n",
    "stim_times = range(0,200,20)\n",
    "for i in stim_times:\n",
    "    stimuli[i] = 1\n",
    "    \n",
    "### STUDENT ANSWER\n",
    "response = np.convolve(stimuli, hrf_1, mode='full')\n",
    "# Here we also have to crop the signal!\n",
    "stim_resp_plot(t, stimuli, response[:n], yl=(-0.2, 1.2))"
   ]
  },
  {
   "cell_type": "markdown",
   "metadata": {},
   "source": [
    "And now of overlapping events:"
   ]
  },
  {
   "cell_type": "code",
   "execution_count": null,
   "metadata": {
    "collapsed": false
   },
   "outputs": [],
   "source": [
    "t_hrf, hrf_1 = generate_hfr(tr=TR)\n",
    "hrf_length = 32\n",
    "n = 200\n",
    "t = np.arange(n,)\n",
    "stimuli = np.zeros((n))\n",
    "#response = np.zeros((n))\n",
    "\n",
    "idx = np.arange(0, n, 20)\n",
    "stimuli[idx] = 1\n",
    "add = np.arange(len(idx), 0, -1)\n",
    "stimuli[idx+add] = 1 \n",
    "    \n",
    "### STUDENT ANSWER\n",
    "response = np.convolve(stimuli, hrf_1, mode='full')\n",
    "# Here we also have to crop the signal!\n",
    "stim_resp_plot(t, stimuli, response[:n], yl=(-0.2, 1.2))"
   ]
  },
  {
   "cell_type": "markdown",
   "metadata": {},
   "source": [
    "### Important Observation \n",
    "So far we have assumed that every stimulus occurence creates a response in the voxel equal to the canonical hrf (and can be scaled by the feature value).\n",
    "\n",
    "However, voxels in different parts of the brain can be differently responsive to a stimulus, or not responsive at all. In fMRI, we are interested in finding how responsive different voxels are to a stimulus. We will therefore introduce a new parameter: $w^v$, that describes the strength with which a voxel $v$ responds to the stimulus:\n",
    "\n",
    "$ r^v(i) = w^v \\times  (s \\ast hrf (i) )$\n",
    "\n",
    "We already know how to compute $s \\ast hrf (i)$. In the previous examples we implicitely used $w^v = 1$, and assumed the voxel responds to the stimulus. We will gradually learn how we can estimate $w^v$ from the data, i.e. try to find how responsive voxel $v$ is to a stimulus, if at all. "
   ]
  },
  {
   "cell_type": "markdown",
   "metadata": {},
   "source": [
    "Next, we will show you two ways to account for this delay when trying to assess the relationship between brain signals and stimulus events. "
   ]
  },
  {
   "cell_type": "markdown",
   "metadata": {},
   "source": [
    "## Looking at example data\n",
    "For these exercises, we will work with simulated data from a single voxel. We use the same plotting function, but we plot the data that is provided to us instead of forming the responses ourselves."
   ]
  },
  {
   "cell_type": "code",
   "execution_count": null,
   "metadata": {
    "collapsed": false
   },
   "outputs": [],
   "source": [
    "# Load example data\n",
    "ex_data = np.load(os.path.join(nds.io.data_list['fake'], 'example_data_01.npz'))\n",
    "t = ex_data['t']\n",
    "stimulus = ex_data['x']\n",
    "data_sim = ex_data['data']\n",
    "stim_resp_plot(t, stimulus, data_sim, yl=(-2, 5))"
   ]
  },
  {
   "cell_type": "code",
   "execution_count": null,
   "metadata": {
    "collapsed": true
   },
   "outputs": [],
   "source": [
    "### TEACHER NOTE\n",
    "# Note that the data has larger variation than previous examples. We *COULD* z-score it... Or just leave it alone.*"
   ]
  },
  {
   "cell_type": "markdown",
   "metadata": {},
   "source": [
    "Because of the hemodynamic delay, the fMRI response is *NOT* correlated with the stimulus events:"
   ]
  },
  {
   "cell_type": "code",
   "execution_count": null,
   "metadata": {
    "collapsed": false
   },
   "outputs": [],
   "source": [
    "plt.scatter(stimulus, data_sim);\n",
    "print(\"the correlation between the stimulus and the data is {}\".format(np.corrcoef(stimulus, data_sim)[0,1]))"
   ]
  },
  {
   "cell_type": "markdown",
   "metadata": {},
   "source": [
    "How would the plot above be different if the data had been correlated?"
   ]
  },
  {
   "cell_type": "markdown",
   "metadata": {},
   "source": [
    "We know that the presentation of the stimulus should create a hemodynamic response if this voxel is sensitive to that stimulus. We therefore need to convolve the stimulus first with the hemodynamic response. \n",
    "\n",
    "But first, look at the time vector:"
   ]
  },
  {
   "cell_type": "code",
   "execution_count": null,
   "metadata": {
    "collapsed": false
   },
   "outputs": [],
   "source": [
    "t[:10]"
   ]
  },
  {
   "cell_type": "markdown",
   "metadata": {},
   "source": [
    "The data is sampled with a TR of 2 seconds! Then we need an hrf that is sampled with the same rate. This will be the same curve as before, however only sampled differently."
   ]
  },
  {
   "cell_type": "code",
   "execution_count": null,
   "metadata": {
    "collapsed": false
   },
   "outputs": [],
   "source": [
    "t2, hrf_2 = nds.fmri.hrf(tr=2)\n",
    "plt.plot(t2, hrf_2);"
   ]
  },
  {
   "cell_type": "markdown",
   "metadata": {},
   "source": [
    "Now we can convolve the stimulus:"
   ]
  },
  {
   "cell_type": "code",
   "execution_count": null,
   "metadata": {
    "collapsed": false
   },
   "outputs": [],
   "source": [
    "conv_stimulus = np.convolve(stimulus, hrf_2, mode='full')[:n_tps]\n",
    "stim_resp_plot(t, stimulus, conv_stimulus);"
   ]
  },
  {
   "cell_type": "code",
   "execution_count": null,
   "metadata": {
    "collapsed": false
   },
   "outputs": [],
   "source": [
    "stim_resp_plot(t, conv_stimulus, data_sim, yl=(-2, 5))"
   ]
  },
  {
   "cell_type": "code",
   "execution_count": null,
   "metadata": {
    "collapsed": false
   },
   "outputs": [],
   "source": [
    "plt.scatter(conv_stimulus, data_sim);\n",
    "print(\"the correlation between the stimulus and the data is {}\".format(np.corrcoef(conv_stimulus, data_sim)[0,1]))"
   ]
  },
  {
   "cell_type": "markdown",
   "metadata": {},
   "source": [
    "We can see now we are able to recover a clear relationship between the stimulus and the data. What is the variance of the noise that we can guess from this plot? Had this been real data, this would have been a very clean result. Usually in fMRI we are not so lucky to have effects that are this clear. We will study in future lectures how to can expand this analysis.\n",
    "\n",
    "Can we estimate from this data the magnitude of the weight $w_v$?"
   ]
  },
  {
   "cell_type": "code",
   "execution_count": null,
   "metadata": {
    "collapsed": false
   },
   "outputs": [],
   "source": [
    "# this function first a straight line through the points above\n",
    "slope, intercept = np.polyfit(data_sim,conv_stimulus, 1)\n",
    "print(slope)"
   ]
  },
  {
   "cell_type": "markdown",
   "metadata": {
    "collapsed": true
   },
   "source": [
    "Remember, what is units of this value? FMRI signal doesn't have a unit and can be rescaled and normalized. The weight therefore depends on how the data is normalized and is meaningful only with respect to the variance of the data. \n",
    "\n",
    "What happen when we have more than one stimulus?"
   ]
  }
 ],
 "metadata": {
  "kernelspec": {
   "display_name": "Python [py35]",
   "language": "python",
   "name": "Python [py35]"
  },
  "language_info": {
   "codemirror_mode": {
    "name": "ipython",
    "version": 3
   },
   "file_extension": ".py",
   "mimetype": "text/x-python",
   "name": "python",
   "nbconvert_exporter": "python",
   "pygments_lexer": "ipython3",
   "version": "3.5.2"
  }
 },
 "nbformat": 4,
 "nbformat_minor": 0
}
