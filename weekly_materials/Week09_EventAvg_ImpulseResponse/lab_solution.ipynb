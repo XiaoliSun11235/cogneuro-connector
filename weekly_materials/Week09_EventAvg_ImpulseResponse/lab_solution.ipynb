{
 "cells": [
  {
   "cell_type": "code",
   "execution_count": null,
   "metadata": {
    "collapsed": true
   },
   "outputs": [],
   "source": [
    "%matplotlib inline\n",
    "import numpy as np"
   ]
  },
  {
   "cell_type": "markdown",
   "metadata": {},
   "source": [
    "Let's take a hypothetical voxel $v$. Assume we now have two stimuli A and B. Voxel $v$ responds to stimulus A with a coefficient $w^v_A = 1$ and to stimulus B with coefficient $w^v_B = 0.5.$\n",
    "\n",
    "The following are the occurences of the stimuli:"
   ]
  },
  {
   "cell_type": "code",
   "execution_count": null,
   "metadata": {
    "collapsed": false
   },
   "outputs": [],
   "source": [
    "n = 200\n",
    "TR = 2\n",
    "stimulus_a = np.zeros([n,])\n",
    "stimulus_a[[10,15,30,33,35,37,150,155,170,180]] = 1\n",
    "stimulus_b = np.zeros([n,])\n",
    "stimulus_b[[26,27,50,53,55,57,150,155,173,183]] = 1\n"
   ]
  },
  {
   "cell_type": "markdown",
   "metadata": {},
   "source": [
    "(1) Compute and plot the response to each stimulus independently, using the HRF function from the neurods package, and the weights for each feature that are defined above. Use the stim_resp_plot function defined in the lecture to plot both answers"
   ]
  },
  {
   "cell_type": "code",
   "execution_count": null,
   "metadata": {
    "collapsed": false
   },
   "outputs": [],
   "source": [
    "### STUDENT ANSWER\n",
    "import neurods as nds\n",
    "from neurods.fmri import hrf as generate_hrf\n",
    "import matplotlib.pyplot as plt\n",
    "\n",
    "# Get a canonical hrf_1\n",
    "t_hrf, hrf_1 = generate_hrf(tr=TR)\n",
    "print('hrf_1 shape is', hrf_1.shape)\n",
    "\n",
    "def stim_resp_plot(t, stimulus, response, yl=(-0.2, 1.2)):\n",
    "    \"\"\"Plot stimulus and response\"\"\"\n",
    "    plt.figure(figsize=(10,4))\n",
    "    # Note stem() function!\n",
    "    plt.stem(t, stimulus, linefmt='k-', markerfmt='.', basefmt='k-', label='Stimulus')\n",
    "    plt.plot(t, response, 'r.-', label='BOLD response')\n",
    "    plt.ylim(yl)\n",
    "    plt.xlim([-1,t.max()+1])\n",
    "    plt.xlabel('Time (seconds)')\n",
    "    plt.ylabel('Response (arbitrary units)')\n",
    "    _ = plt.legend()\n",
    "\n",
    "# Plot\n",
    "response_a = np.convolve(stimulus_a, hrf_1)[:n]\n",
    "response_b = np.convolve(stimulus_b, hrf_1)[:n]\n",
    "stim_resp_plot(np.array(range(n)), stimulus_a, response_a)\n",
    "stim_resp_plot(np.array(range(n)), stimulus_b, response_b)"
   ]
  },
  {
   "cell_type": "markdown",
   "metadata": {},
   "source": [
    "(2) Obtain the total activity in that voxel by summing the contributions of both features. Now create a function stim_resp_plot_2 which takes in two stimulus vectors, and plots each in a different color along with the total response from both of them. Use that new function to plot the total response."
   ]
  },
  {
   "cell_type": "code",
   "execution_count": null,
   "metadata": {
    "collapsed": false
   },
   "outputs": [],
   "source": [
    "### STUDENT ANSWER\n",
    "total_response = response_a + response_b\n",
    "\n",
    "def stim_resp_plot_2(t, stimulus_1, stimulus_2, response, yl=(-0.2, 1.2)):\n",
    "    \"\"\"Plot stimulus and response\"\"\"\n",
    "    plt.figure(figsize=(10,4))\n",
    "    # Note stem() function!\n",
    "    plt.stem(t, stimulus_a, linefmt='k-', markerfmt='.', basefmt='k-', label='Stimulus')\n",
    "    plt.stem(t, stimulus_b, linefmt='g-', markerfmt='.', basefmt='g-', label='Stimulus')\n",
    "    plt.plot(t, response, 'r.-', label='BOLD response')\n",
    "    plt.ylim(yl)\n",
    "    plt.xlim([-1,t.max()+1])\n",
    "    plt.xlabel('Time (seconds)')\n",
    "    plt.ylabel('Response (arbitrary units)')\n",
    "    _ = plt.legend()\n",
    "    \n",
    "stim_resp_plot_2(np.array(range(n)), stimulus_a, stimulus_b, total_response)"
   ]
  },
  {
   "cell_type": "markdown",
   "metadata": {},
   "source": [
    "(3) Now create a function that takes as input two stimuli, an HRF function, and weights for the contribution of both stimuli to the activity of a voxel. That function should plot the same figure as question (2), and return the total activity as well. Test your function with new vectors stimulus_a and stimulus_b that you initialize how you want"
   ]
  },
  {
   "cell_type": "code",
   "execution_count": null,
   "metadata": {
    "collapsed": false
   },
   "outputs": [],
   "source": [
    "### STUDENT ANSWER\n",
    "def plot_total_response(stimulus_1, stimulus_2, hrf_1, w_1, w_2):\n",
    "    n = stimulus_1.shape[0]\n",
    "    response_1 = np.convolve(stimulus_1, hrf_1)[:n]\n",
    "    response_2 = np.convolve(stimulus_2, hrf_1)[:n]\n",
    "    total_response = w_1*response_1 + w_2*response_2\n",
    "    stim_resp_plot_2(np.array(range(n)), stimulus_a, stimulus_b, total_response)\n",
    "    \n",
    "stimulus_a = np.zeros([n,])\n",
    "stimulus_a[range(25,75)] = 1\n",
    "stimulus_b = np.zeros([n,])\n",
    "stimulus_b[range(125,175)] = 1\n",
    "plot_total_response(stimulus_a, stimulus_b, hrf_1, 1, 0.5)"
   ]
  },
  {
   "cell_type": "markdown",
   "metadata": {},
   "source": [
    "(4) Now improve your function so it is not restricted to 2 stimuli only, but can take an $n \\times d$ stimulus matrix where d is the number of stimuli, the HRF function, and a d-length vector of weights for each feature. For simplicity, you only need to plot the total response. "
   ]
  },
  {
   "cell_type": "code",
   "execution_count": null,
   "metadata": {
    "collapsed": false
   },
   "outputs": [],
   "source": [
    "n = 200\n",
    "d = 4\n",
    "# initialize the matrix somehow, you can change this:\n",
    "stimulus_matrix = np.zeros([n,d])\n",
    "stimulus_matrix[range(10,30),0] =1\n",
    "stimulus_matrix[range(50,70),1] =1\n",
    "stimulus_matrix[range(130,160),2] =1\n",
    "stimulus_matrix[range(150,170),3] =1\n",
    "weights = np.array([0.5,0.5,1,2])\n",
    "\n",
    "### STUDENT ANSWER\n",
    "def plot_total_response(stimulus_matrix, hrf_1, weights):\n",
    "    n = stimulus_matrix.shape[0]\n",
    "    d = stimulus_matrix.shape[1]\n",
    "    total_response = np.zeros(n)\n",
    "    for i in range(d):\n",
    "        response_i = np.convolve(stimulus_matrix[:,i], hrf_1)[:n]\n",
    "        total_response += weights[i]*response_i\n",
    "    plt.figure(figsize=(10,4))\n",
    "    plt.plot(np.array(range(n)), total_response,'r.-', label='BOLD response')\n",
    "    plt.xlabel('Time (seconds)')\n",
    "    plt.ylabel('Response (arbitrary units)')\n",
    "    _ = plt.legend()\n",
    "\n",
    "plot_total_response(stimulus_matrix, hrf_1, weights)"
   ]
  },
  {
   "cell_type": "code",
   "execution_count": null,
   "metadata": {
    "collapsed": true
   },
   "outputs": [],
   "source": []
  }
 ],
 "metadata": {
  "kernelspec": {
   "display_name": "Python 3",
   "language": "python",
   "name": "python3"
  },
  "language_info": {
   "codemirror_mode": {
    "name": "ipython",
    "version": 3
   },
   "file_extension": ".py",
   "mimetype": "text/x-python",
   "name": "python",
   "nbconvert_exporter": "python",
   "pygments_lexer": "ipython3",
   "version": "3.5.2"
  }
 },
 "nbformat": 4,
 "nbformat_minor": 0
}
