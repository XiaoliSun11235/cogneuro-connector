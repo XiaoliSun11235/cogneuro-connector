{
 "cells": [
  {
   "cell_type": "markdown",
   "metadata": {},
   "source": [
    "# Homework #1\n",
    "\n",
    "In this homework, you will review how to load a N-D array and select an axial slice of fMRI data. Then you will use the array operations that you learned in Lecture 2 to **normalize** the dataset. **Normalization** is a mathmateical operation that removes the **scale** of your data. In other words, it transforms the minimum and maximum values of your data so they are all between 0 and 1. This is a very useful thing to do when you are dealing with data whose **scale** is meaningless, such as fMRI BOLD data. Finally, you We will make a histogram of this normalized data.\n",
    "\n",
    "**IMPORTANT**: We will be using a python module called OKPy to allow you to automatically submit this assignment just be running the last cell of this Juypyter Notebook. To make this work, please make sure to evaluate the cell below and follow the instructions. You can submit the notebook by evaluating the last cell."
   ]
  },
  {
   "cell_type": "code",
   "execution_count": null,
   "metadata": {
    "collapsed": true
   },
   "outputs": [],
   "source": [
    "# Don't change this cell; just run it. \n",
    "# The result will give you directions about how to log in to the submission system, called OK.\n",
    "# Once you're logged in, you can run this cell again, but it won't ask you who you are because\n",
    "# it remembers you. However, you will need to log in once per assignment.\n",
    "from client.api.notebook import Notebook\n",
    "ok = Notebook('hw1.ok')\n",
    "_ = ok.auth(inline=True)\n"
   ]
  },
  {
   "cell_type": "markdown",
   "metadata": {},
   "source": [
    "1- [1pt] Import the Python modules you will need, and change the settings so that matplotlib will plot in this Jupyter notebook, and not an external window."
   ]
  },
  {
   "cell_type": "code",
   "execution_count": null,
   "metadata": {
    "collapsed": true
   },
   "outputs": [],
   "source": []
  },
  {
   "cell_type": "markdown",
   "metadata": {},
   "source": [
    "2- [2pts] Load the data from the `.npy` file we used in class, convert the array you load into 32-bit floats, and then transpose the matrix to get the order: (Time, Z, Y, X)."
   ]
  },
  {
   "cell_type": "code",
   "execution_count": null,
   "metadata": {
    "collapsed": true
   },
   "outputs": [],
   "source": []
  },
  {
   "cell_type": "markdown",
   "metadata": {},
   "source": [
    "3- [2pt] Create an axial slice using Time=2 and Z=9. Remember from class that to create slices we use **bracket notation**, `[]`. For example, to get the slice where Time=1 and Z=1 we would do this: `data[1,1,:,:]`. "
   ]
  },
  {
   "cell_type": "code",
   "execution_count": null,
   "metadata": {
    "collapsed": true
   },
   "outputs": [],
   "source": []
  },
  {
   "cell_type": "markdown",
   "metadata": {},
   "source": [
    "4- [1pt] The first step of **normalizing** a dataset is to shift all the data so that the minimum value of each column is 0. Do this now by using the `np.min()` function and the subtraction array operator."
   ]
  },
  {
   "cell_type": "code",
   "execution_count": null,
   "metadata": {
    "collapsed": true
   },
   "outputs": [],
   "source": []
  },
  {
   "cell_type": "markdown",
   "metadata": {},
   "source": [
    "5- [4pts] Not that the minimum value of all the data is `0`, you need to make the maximum value `1`. To do this, use `np.max()` function along with another mathmatical array operator. Think of what mathmatical operations you need to do in order to make any number equal to `1`, and apply that operation to the entire dataset. Explain your reasoning using comments (to write comments in python, start a line with #)."
   ]
  },
  {
   "cell_type": "code",
   "execution_count": null,
   "metadata": {
    "collapsed": true
   },
   "outputs": [],
   "source": []
  },
  {
   "cell_type": "markdown",
   "metadata": {},
   "source": [
    "**Important:** before leaving the lab, make sure to execute the submit command below. If you encounter an error, please contact us immediately via email or bCourses."
   ]
  },
  {
   "cell_type": "code",
   "execution_count": null,
   "metadata": {
    "collapsed": true
   },
   "outputs": [],
   "source": [
    "_ = ok.submit()"
   ]
  }
 ],
 "metadata": {
  "kernelspec": {
   "display_name": "Python 3",
   "language": "python",
   "name": "python3"
  },
  "language_info": {
   "codemirror_mode": {
    "name": "ipython",
    "version": 3
   },
   "file_extension": ".py",
   "mimetype": "text/x-python",
   "name": "python",
   "nbconvert_exporter": "python",
   "pygments_lexer": "ipython3",
   "version": "3.6.1"
  }
 },
 "nbformat": 4,
 "nbformat_minor": 1
}
