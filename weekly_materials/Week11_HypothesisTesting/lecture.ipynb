{
 "cells": [
  {
   "cell_type": "markdown",
   "metadata": {},
   "source": [
    "# Overview\n",
    "In the last lab, we went over how we can use linear regression to estimate how much a voxel responds to each stimulus in an experiment. We explained the regression problem and derive it's solution. We applied this analysis to real data.\n",
    "\n",
    "# Goals\n",
    "In this lab, we will study how to make sense of the weights that we estimate from data. The regression weights of a voxel for multiple stimuli might be representative of how that voxel responds to stimuli. Alternatively, the presence of noise could have lead to weights that do not correspond to how that voxel responds to the stimulus. To distinguish between these two cases, we need to run a hypothesis test."
   ]
  },
  {
   "cell_type": "code",
   "execution_count": 3,
   "metadata": {
    "collapsed": true
   },
   "outputs": [],
   "source": [
    "# Imports\n",
    "import neurods as nds\n",
    "import numpy as np\n",
    "import os\n",
    "import matplotlib.pyplot as plt\n",
    "# Configure defaults for plots\n",
    "plt.rcParams['image.interpolation'] = 'nearest'\n",
    "plt.rcParams['image.aspect'] = 'auto'\n",
    "plt.rcParams['image.cmap'] = 'viridis'\n",
    "%matplotlib inline"
   ]
  },
  {
   "cell_type": "markdown",
   "metadata": {},
   "source": [
    "A hypothesis test is a statistical test that is used to determine whether there is enough evidence in a sample of data to infer that a certain condition is true in general. A hypothesis test examines two opposing hypotheses: the null hypothesis and the alternative hypothesis.\n",
    "\n",
    "In the context of brain imaging experiments, we typically have a test at every voxel. For every voxel, we could have a test between:\n",
    "- null hypothesis: this voxel is not responsive to faces\n",
    "- alternative hypothesis: this voxel is responsive to faces\n",
    "\n",
    "Another test could be done in the following way:\n",
    "- null hypothesis: this voxel is not responsive to faces more than to places\n",
    "- alternative hypothesis: this voxel is responsive to faces more than to places\n",
    "\n",
    "As you can see above, the test cannot be defined without a proper specification of its null and alternative hypotheses. Multiple tests could be done with the same data and the estimates we derive from it. A correct formulation of the test will guide the statistical procedure to be done and will help to arrive at a statistically sound hypothesis.\n",
    "\n",
    "In a typical fMRI experiment, we convolve the stimulus design matrix with a canonical hemodynamic response function and we use this to estimate weights for each condition at each voxel. We saw in class and in the homework how we can plot these estimated weights."
   ]
  },
  {
   "cell_type": "code",
   "execution_count": null,
   "metadata": {
    "collapsed": false
   },
   "outputs": [],
   "source": [
    "from numpy.linalg import inv\n",
    "def OLS(X,Y):\n",
    "    return np.dot(inv(np.dot(X.T,X)),np.dot(X.T,Y))"
   ]
  },
  {
   "cell_type": "markdown",
   "metadata": {},
   "source": [
    "# Modeling voxel responses\n",
    "\n",
    "Remember, we are using regression because we want to model different voxel responses to a set of stimuli. We learned how to take a stimulus time course and how to convolve it with the hemodynamic response. We then assumed that each voxel's activity was a linear combination of all the convolved time courses of the stimuli. We want to recover the parameters of the linear combination. Let's load some data:"
   ]
  },
  {
   "cell_type": "code",
   "execution_count": null,
   "metadata": {
    "collapsed": false
   },
   "outputs": [],
   "source": [
    "basedir = os.path.join(nds.io.data_list['fmri'],'categories')\n",
    "design = np.load(os.path.join(basedir,'experiment_design.npz'))\n",
    "print('Experiment design variables: ', design.keys())\n",
    "conditions = design['conditions'].tolist()\n",
    "print('Conditions: ', conditions)\n",
    "design_run1 = design['run1']\n",
    "for i, (cond, label) in enumerate(zip(design_run1.T, conditions)):\n",
    "    plt.plot(cond+i+0.2*i, label=label, lw=2)\n",
    "plt.title('Condition labels')\n",
    "_ = plt.legend(frameon=False, bbox_to_anchor=(1.4, 1))"
   ]
  },
  {
   "cell_type": "markdown",
   "metadata": {},
   "source": [
    "We are going to use the zscore function while loading the data to normalize every block:"
   ]
  },
  {
   "cell_type": "code",
   "execution_count": null,
   "metadata": {
    "collapsed": false,
    "scrolled": false
   },
   "outputs": [],
   "source": [
    "import cortex\n",
    "sub, xfm = 'S2', 'S2_category_auto'\n",
    "mask = cortex.db.get_mask(sub, xfm, type='cortical')\n",
    "fname = os.path.join(basedir, 'S2_categories1_{n}.nii.gz') #S2_categories1_{n}.nii.gz\n",
    "# fmri responses:\n",
    "Y = np.vstack([zscore(nds.fmri.load_data(fname.format(n=n), mask=mask, standardize=True)) for n in [1,2]])\n",
    "# stimuli:\n",
    "X = np.vstack([design[run] for run in ['run1','run2']])\n",
    "\n",
    "plt.figure(figsize=(10,4))\n",
    "plt.imshow(Y)\n",
    "plt.title('Voxel responses')\n",
    "\n",
    "plt.figure(figsize=(10,4))\n",
    "for i, (cond, label) in enumerate(zip(X.T, conditions)):\n",
    "    plt.plot(cond+i+0.2*i, label=label, lw=2)\n",
    "plt.title('Condition labels')\n",
    "_ = plt.legend(frameon=False, bbox_to_anchor=(1.4, 1))"
   ]
  },
  {
   "cell_type": "markdown",
   "metadata": {},
   "source": [
    "We need to first build a design matrix that accounts for the hemodynamic response:"
   ]
  },
  {
   "cell_type": "code",
   "execution_count": null,
   "metadata": {
    "collapsed": false
   },
   "outputs": [],
   "source": [
    "from neurods.fmri import hrf as generate_hrf\n",
    "t_hrf, hrf_1 = generate_hrf(tr=2)\n",
    "n, d = X.shape\n",
    "\n",
    "conv_X = np.zeros_like(X)\n",
    "for i in range(d):\n",
    "    conv_X[:,i] = np.convolve(X[:,i], hrf_1)[:n]\n",
    "    \n",
    "for i, (cond, label) in enumerate(zip(conv_X.T, conditions)):\n",
    "    plt.plot(cond+i+0.2*i, label=label, lw=2)\n",
    "    \n",
    "plt.title('Condition labels')\n",
    "_ = plt.legend(frameon=False, bbox_to_anchor=(1.4, 1))"
   ]
  },
  {
   "cell_type": "markdown",
   "metadata": {},
   "source": [
    "We want to find the response of all the voxels in the brain to these 5 different conditions. Instead of a one dimensional output $Y$, we have a high dimensional output ${\\bf Y}$."
   ]
  },
  {
   "cell_type": "code",
   "execution_count": null,
   "metadata": {
    "collapsed": false,
    "scrolled": false
   },
   "outputs": [],
   "source": [
    "weights = OLS(conv_X, Y)\n",
    "print('shape of weights is {}'.format(weights.shape))\n",
    "plt.imshow(weights)\n",
    "for idx, condition in enumerate(conditions):\n",
    "    vol = cortex.Volume(weights[idx], sub, xfm, mask = mask)\n",
    "    __  = cortex.quickflat.make_figure(vol)\n",
    "    plt.title(condition, fontsize = 30)"
   ]
  },
  {
   "cell_type": "markdown",
   "metadata": {},
   "source": [
    "- What can we conclude from the above plots about where different categories are represented in the brain?\n",
    "- Can we trust very high weights more than small weights? How can we know what a good threshold is?\n",
    "\n",
    "In order to make inferences about brain representations from the result of our linear regression, we first need to estimate an appropriate statistic from the data. We will perform something called a t-test.\n",
    "\n",
    "First, we need to estimate the mean squared error. The weights above were obtained using matrices conv_X (the convolved design matrix), and Y (the data matrix). \n",
    "\n",
    "#### Breakout Session\n",
    "- First, use the weights estimated above to predict the activity $\\hat {\\bf Y}$.\n",
    "- Second, estimate the error ${\\bf Y-\\hat Y}$.\n",
    "- Then, estimate $\\boldsymbol \\sigma$, the mean squared error $\\sum_{i=0}^{N-1}(Y_i - \\hat Y_i)^2$. This will give you a vector corresponding to the mean squared error at every voxel.\n",
    "- Make a flatmap of $\\boldsymbol \\sigma$"
   ]
  },
  {
   "cell_type": "code",
   "execution_count": null,
   "metadata": {
    "collapsed": false
   },
   "outputs": [],
   "source": [
    "# start by using the variables conv_X and weights to estimate Y_hat\n",
    "# you should estimate a variable mse\n",
    "# then use to plot it the following:\n",
    "# vol = cortex.Volume(mse, sub, xfm, mask = mask)\n",
    "# __  = cortex.quickflat.make_figure(vol)\n",
    "# plt.title('mse', fontsize = 30)\n",
    "\n",
    "### STUDENT ANSWER\n",
    "Y_hat = conv_X * weights\n",
    "error = Y - Y_hat\n",
    "mse = np.sum((Y - Y_hat)**2, axis=0)\n",
    "vol = cortex.Volume(mse, sub, xfm, mask = mask)\n",
    "__  = cortex.quickflat.make_figure(vol)\n",
    "plt.title('mse', fontsize = 30)"
   ]
  },
  {
   "cell_type": "markdown",
   "metadata": {},
   "source": [
    "Now we need to define the notion of a contrast. In the homework, you were asked to subtract the weights for places from the weights for faces. This can be called a faces - places contrast. A contrast can be computed using a vector of d numbers. In our case, d=5 because we have 5 conditions.\n",
    "\n",
    "To compute the faces - places contrast, we can use the following contrast [0,1,0,-1,0]. "
   ]
  },
  {
   "cell_type": "code",
   "execution_count": 2,
   "metadata": {
    "collapsed": false
   },
   "outputs": [
    {
     "ename": "NameError",
     "evalue": "name 'np' is not defined",
     "output_type": "error",
     "traceback": [
      "\u001b[0;31m---------------------------------------------------------------------------\u001b[0m",
      "\u001b[0;31mNameError\u001b[0m                                 Traceback (most recent call last)",
      "\u001b[0;32m<ipython-input-2-b9a836fedf5d>\u001b[0m in \u001b[0;36m<module>\u001b[0;34m()\u001b[0m\n\u001b[0;32m----> 1\u001b[0;31m \u001b[0mc\u001b[0m \u001b[0;34m=\u001b[0m \u001b[0mnp\u001b[0m\u001b[0;34m.\u001b[0m\u001b[0marray\u001b[0m\u001b[0;34m(\u001b[0m\u001b[0;34m[\u001b[0m\u001b[0;36m0\u001b[0m\u001b[0;34m,\u001b[0m\u001b[0;36m1\u001b[0m\u001b[0;34m,\u001b[0m\u001b[0;36m0\u001b[0m\u001b[0;34m,\u001b[0m\u001b[0;34m-\u001b[0m\u001b[0;36m1\u001b[0m\u001b[0;34m,\u001b[0m\u001b[0;36m0\u001b[0m\u001b[0;34m]\u001b[0m\u001b[0;34m)\u001b[0m\u001b[0;34m\u001b[0m\u001b[0m\n\u001b[0m\u001b[1;32m      2\u001b[0m \u001b[0mcontrast\u001b[0m \u001b[0;34m=\u001b[0m \u001b[0mc\u001b[0m\u001b[0;34m*\u001b[0m\u001b[0mweights\u001b[0m\u001b[0;34m\u001b[0m\u001b[0m\n\u001b[1;32m      3\u001b[0m \u001b[0mvol\u001b[0m \u001b[0;34m=\u001b[0m \u001b[0mcortex\u001b[0m\u001b[0;34m.\u001b[0m\u001b[0mVolume\u001b[0m\u001b[0;34m(\u001b[0m\u001b[0mcontrast\u001b[0m\u001b[0;34m,\u001b[0m \u001b[0msub\u001b[0m\u001b[0;34m,\u001b[0m \u001b[0mxfm\u001b[0m\u001b[0;34m,\u001b[0m \u001b[0mmask\u001b[0m \u001b[0;34m=\u001b[0m \u001b[0mmask\u001b[0m\u001b[0;34m)\u001b[0m\u001b[0;34m\u001b[0m\u001b[0m\n\u001b[1;32m      4\u001b[0m \u001b[0m__\u001b[0m  \u001b[0;34m=\u001b[0m \u001b[0mcortex\u001b[0m\u001b[0;34m.\u001b[0m\u001b[0mquickflat\u001b[0m\u001b[0;34m.\u001b[0m\u001b[0mmake_figure\u001b[0m\u001b[0;34m(\u001b[0m\u001b[0mvol\u001b[0m\u001b[0;34m)\u001b[0m\u001b[0;34m\u001b[0m\u001b[0m\n\u001b[1;32m      5\u001b[0m \u001b[0mplt\u001b[0m\u001b[0;34m.\u001b[0m\u001b[0mtitle\u001b[0m\u001b[0;34m(\u001b[0m\u001b[0;34m'faces - places'\u001b[0m\u001b[0;34m,\u001b[0m \u001b[0mfontsize\u001b[0m \u001b[0;34m=\u001b[0m \u001b[0;36m30\u001b[0m\u001b[0;34m)\u001b[0m\u001b[0;34m\u001b[0m\u001b[0m\n",
      "\u001b[0;31mNameError\u001b[0m: name 'np' is not defined"
     ]
    }
   ],
   "source": [
    "c = np.array([0,1,0,-1,0])\n",
    "contrast = np.dot(c,weights)\n",
    "vol = cortex.Volume(contrast, sub, xfm, mask = mask)\n",
    "__  = cortex.quickflat.make_figure(vol)\n",
    "plt.title('faces - places', fontsize = 30)"
   ]
  },
  {
   "cell_type": "markdown",
   "metadata": {},
   "source": [
    "What do we use this contrast with? We want to find the regions that are more responsive to faces than to places. Therefore, for every voxel, we have the following:\n",
    "- null hypothesis: this voxel is not responsive to faces more than to places\n",
    "- alternative hypothesis: this voxel is responsive to faces more than to places\n",
    "\n",
    "Let's say a particular alternative hypothesis is actually correct, for example, a voxel $v$ does represent faces (in reality, we can never know this fact). \n",
    "\n",
    "If the alternative hypothesis is correct and our test doesn't reject the null hypothesis, we call this a type II error. In case where the null hypothesis is correct and we reject it, this is called a type I error, or a false positive.\n",
    "\n",
    "The probability of rejecting a null hypothesis when the alternative is correct, e.g. of correctly concluding that voxel $v$ does represent faces, is called the power of a test. The power depends on many properties of an experiment, of the test and of the hypotheses. Critical parameters of the experiment that can affect the power are for example the level of noise in the experiment, the effect size, the number of samples.\n",
    "\n",
    "We want a test that maximizes power. However, take the following test: always reject the null hypothesis. This test does maximize power, however, it also maximizes type I error. The opposite test: never reject the null hypothesis, minimize type I error, but it also makes the power equal to zero. We therefore want a test that maximizes power while keeping the false positive rate under an acceptable threshold.\n",
    "\n",
    "We cannot guarantee that we are making no type I errors. However, statistical tests have a guarantee on the probability of error. Depending on which test we use, we estimate a p-value for our observations. A p-value is defined as the probability of obtaining a result equal to or \"more extreme\" than what was actually observed, when the null hypothesis is true. We then reject the null hypothesis if the p-value is lower than some threshold. 0.05 is for example a common threshold for tests. If we reject with this rate, it means that the probability of us making a mistake is less than 0.05. \n",
    "\n",
    "Let's say the null hypothesis is actually true. Using a threshold of 0.05 actually means that if we could somehow repeat the experiment a large number of times, we would (falsely) reject the null hypothesis 5% of those times.\n",
    "\n",
    "A t-test allows us to estimate a statistic that can be readily converted into a p-value.\n",
    "\n",
    "For each voxel $v$, the t-statistic is the contrast value, divided by the standard error of the contrast. The standard error of the contrast is estimated as: $\\sqrt{\\hat{\\sigma_v}^2 c^T (X^T X)^{-1}c}$. Therefore the t-statistic at that voxel is \n",
    "\n",
    "$$ t_v = \\frac{c^T \\hat\\beta_v}{\\sqrt{\\hat{\\sigma}^2 c^T (X^T X)^{-1}c}}$$\n",
    "\n",
    "#### Breakout Session\n",
    "\n",
    "- Implement a function that takes as input the convolved design matrix, the weights of all voxels, the mse vector $\\boldsymbol \\sigma$ and the vector c. This function should output the value of the t-statistic for every voxel. \n",
    "- Use this function to estimate the t-statistic for each voxel with the contrast corresponding to faces - places\n",
    "- Produce a flatmap of those t-statistics \n"
   ]
  },
  {
   "cell_type": "code",
   "execution_count": null,
   "metadata": {
    "collapsed": true
   },
   "outputs": [],
   "source": [
    "# implement the function below, then use it with the existing variables:\n",
    "# t_statistic = t_stat(conv_X, weights, mse, [0,1,0,-1,0])\n",
    "# vol = cortex.Volume(t_statistic, sub, xfm, mask = mask)\n",
    "# __  = cortex.quickflat.make_figure(vol)\n",
    "# plt.title('t_statistic', fontsize = 30)\n",
    "from numpy.linalg import inv\n",
    "\n",
    "def t_stat(X, beta, mse, c):\n",
    "### STUDENT ANSWER\n",
    "    num = np.dot(c,beta)\n",
    "    ctXtXc = np.dot(np.dot(c, inv(np.dot(X.T,X)) ), c)\n",
    "    denum = np.sqrt(mse* ctXtXc)\n",
    "    return num/denum\n",
    "\n",
    "t_statistic = t_stat(conv_X, weights, mse, [0,1,0,-1,0])\n",
    "vol = cortex.Volume(t_statistic, sub, xfm, mask = mask)\n",
    "__  = cortex.quickflat.make_figure(vol)\n",
    "plt.title('t_statistic', fontsize = 30)\n",
    "    "
   ]
  },
  {
   "cell_type": "markdown",
   "metadata": {},
   "source": [
    "We can convert t-statistics to p-values. The distribution of a t-statistic is determined by it's degree of freedom $\\nu$. For us, $\\nu$ corresponds to the number of datapoints used to estimate the statistic, i.e. the original number of samples (240)."
   ]
  },
  {
   "cell_type": "code",
   "execution_count": 15,
   "metadata": {
    "collapsed": false
   },
   "outputs": [
    {
     "data": {
      "image/png": "[encoded data removed]",
      "text/plain": [
       "<matplotlib.figure.Figure at 0x10d883278>"
      ]
     },
     "metadata": {},
     "output_type": "display_data"
    },
    {
     "data": {
      "image/png": "[encoded data removed]",
      "text/plain": [
       "<matplotlib.figure.Figure at 0x10d791ac8>"
      ]
     },
     "metadata": {},
     "output_type": "display_data"
    }
   ],
   "source": [
    "nu = 240# Y.shape[0]\n",
    "from scipy.stats import t as tdistribution\n",
    "x = np.linspace(-10,10,num=10001)\n",
    "t_pdf = tdistribution.pdf(x, nu)\n",
    "plt.figure()\n",
    "plt.plot(x,t_pdf)\n",
    "plt.xlabel('x')\n",
    "plt.ylabel('P(X)')\n",
    "plt.figure()\n",
    "t_cdf = tdistribution.cdf(x, nu)\n",
    "plt.plot(x,t_cdf)\n",
    "plt.xlabel('x')\n",
    "plt.ylabel('P(X<=x)');"
   ]
  },
  {
   "cell_type": "markdown",
   "metadata": {},
   "source": [
    "We can use the function tdistribution.cdf to estimate a p-value for the contrast at every voxel. Remember, cdf(x) is the probability of obtaining a value smaller than x. We want the p-value, which is the probability of obtaining a value higher than x, which is 1-cdf(x). \n"
   ]
  },
  {
   "cell_type": "code",
   "execution_count": 16,
   "metadata": {
    "collapsed": false
   },
   "outputs": [
    {
     "ename": "NameError",
     "evalue": "name 't_statistic' is not defined",
     "output_type": "error",
     "traceback": [
      "\u001b[0;31m---------------------------------------------------------------------------\u001b[0m",
      "\u001b[0;31mNameError\u001b[0m                                 Traceback (most recent call last)",
      "\u001b[0;32m<ipython-input-16-98e39804a231>\u001b[0m in \u001b[0;36m<module>\u001b[0;34m()\u001b[0m\n\u001b[0;32m----> 1\u001b[0;31m \u001b[0mp_statistic\u001b[0m \u001b[0;34m=\u001b[0m \u001b[0;36m1\u001b[0m \u001b[0;34m-\u001b[0m \u001b[0mtdistribution\u001b[0m\u001b[0;34m.\u001b[0m\u001b[0mcdf\u001b[0m\u001b[0;34m(\u001b[0m\u001b[0mt_statistic\u001b[0m\u001b[0;34m,\u001b[0m\u001b[0mnu\u001b[0m\u001b[0;34m)\u001b[0m\u001b[0;34m\u001b[0m\u001b[0m\n\u001b[0m\u001b[1;32m      2\u001b[0m \u001b[0mvol\u001b[0m \u001b[0;34m=\u001b[0m \u001b[0mcortex\u001b[0m\u001b[0;34m.\u001b[0m\u001b[0mVolume\u001b[0m\u001b[0;34m(\u001b[0m\u001b[0mp_statistic\u001b[0m\u001b[0;34m,\u001b[0m \u001b[0msub\u001b[0m\u001b[0;34m,\u001b[0m \u001b[0mxfm\u001b[0m\u001b[0;34m,\u001b[0m \u001b[0mmask\u001b[0m \u001b[0;34m=\u001b[0m \u001b[0mmask\u001b[0m\u001b[0;34m)\u001b[0m\u001b[0;34m\u001b[0m\u001b[0m\n\u001b[1;32m      3\u001b[0m \u001b[0m__\u001b[0m  \u001b[0;34m=\u001b[0m \u001b[0mcortex\u001b[0m\u001b[0;34m.\u001b[0m\u001b[0mquickflat\u001b[0m\u001b[0;34m.\u001b[0m\u001b[0mmake_figure\u001b[0m\u001b[0;34m(\u001b[0m\u001b[0mvol\u001b[0m\u001b[0;34m)\u001b[0m\u001b[0;34m\u001b[0m\u001b[0m\n\u001b[1;32m      4\u001b[0m \u001b[0mplt\u001b[0m\u001b[0;34m.\u001b[0m\u001b[0mtitle\u001b[0m\u001b[0;34m(\u001b[0m\u001b[0;34m'p_statistic'\u001b[0m\u001b[0;34m,\u001b[0m \u001b[0mfontsize\u001b[0m \u001b[0;34m=\u001b[0m \u001b[0;36m30\u001b[0m\u001b[0;34m)\u001b[0m\u001b[0;34m\u001b[0m\u001b[0m\n\u001b[1;32m      5\u001b[0m \u001b[0mvol\u001b[0m \u001b[0;34m=\u001b[0m \u001b[0mcortex\u001b[0m\u001b[0;34m.\u001b[0m\u001b[0mVolume\u001b[0m\u001b[0;34m(\u001b[0m\u001b[0;34m-\u001b[0m\u001b[0mnp\u001b[0m\u001b[0;34m.\u001b[0m\u001b[0mlog10\u001b[0m\u001b[0;34m(\u001b[0m\u001b[0mp_statistic\u001b[0m\u001b[0;34m)\u001b[0m\u001b[0;34m,\u001b[0m \u001b[0msub\u001b[0m\u001b[0;34m,\u001b[0m \u001b[0mxfm\u001b[0m\u001b[0;34m,\u001b[0m \u001b[0mmask\u001b[0m \u001b[0;34m=\u001b[0m \u001b[0mmask\u001b[0m\u001b[0;34m)\u001b[0m\u001b[0;34m\u001b[0m\u001b[0m\n",
      "\u001b[0;31mNameError\u001b[0m: name 't_statistic' is not defined"
     ]
    }
   ],
   "source": [
    "p_statistic = 1 - tdistribution.cdf(t_statistic,nu)\n",
    "vol = cortex.Volume(p_statistic, sub, xfm, mask = mask)\n",
    "__  = cortex.quickflat.make_figure(vol)\n",
    "plt.title('p_statistic', fontsize = 30)\n",
    "vol = cortex.Volume(-np.log10(p_statistic), sub, xfm, mask = mask)\n",
    "__  = cortex.quickflat.make_figure(vol)\n",
    "plt.title('p_statistic, log scale', fontsize = 30)"
   ]
  },
  {
   "cell_type": "markdown",
   "metadata": {},
   "source": [
    "- What happens if we now threshold the brain at p<=0.05? "
   ]
  },
  {
   "cell_type": "code",
   "execution_count": null,
   "metadata": {
    "collapsed": true
   },
   "outputs": [],
   "source": [
    "vol = cortex.Volume(p_statistic<=0.05, sub, xfm, mask = mask, vmin = -2, vmax = 2)\n",
    "__  = cortex.quickflat.make_figure(vol)\n",
    "plt.title('p<=0.05', fontsize = 30)"
   ]
  },
  {
   "cell_type": "markdown",
   "metadata": {},
   "source": [
    "In 1998 (?), a group of researchers were able to show that a group of voxels in a dead salmon were responsive to a visual stimulus. Of course, this study was designed to show the perils of failing to control for multiple comparisons.\n",
    "\n",
    "Let's say there is a game in which a person has to pick a slot out of 100 and win a big prize. On the first try, that person guesses the correct slot.\n",
    "- What is the probability of that event happening by chance?\n",
    "- Would you be willing to suppose this person was previously told about which slot was correct?\n",
    "\n",
    "Now assume you have 10000 people playing this game. On their first try, 109 people guess the correct slot and win the prize.\n",
    "- Would you be willing to suppose these people were previously told about which slot was correct?\n",
    "- Would your assumption change if 5000 people guess the correct slot on their first try?\n",
    "- How does this relate to our problem?\n",
    "\n",
    "## Multiple comparison correction\n",
    "\n",
    "Multiple methods exist to perform multiple comparison correction. Familywise Error Rate (FWER) control the chance of getting any false positives. \n",
    "\n",
    "For example, when correcting for M multiple comparison, the Bonferroni correction consist of using a rate of $\\alpha/M$ instead of $\\alpha$.\n",
    "\n",
    "This is a conservative test: to avoid false positives, it makes the rate very small and thus might fail to reject many true positives."
   ]
  },
  {
   "cell_type": "code",
   "execution_count": 20,
   "metadata": {
    "collapsed": false
   },
   "outputs": [
    {
     "ename": "NameError",
     "evalue": "name 'Y' is not defined",
     "output_type": "error",
     "traceback": [
      "\u001b[0;31m---------------------------------------------------------------------------\u001b[0m",
      "\u001b[0;31mNameError\u001b[0m                                 Traceback (most recent call last)",
      "\u001b[0;32m<ipython-input-20-ce77724d0f64>\u001b[0m in \u001b[0;36m<module>\u001b[0;34m()\u001b[0m\n\u001b[1;32m      1\u001b[0m \u001b[0malpha\u001b[0m \u001b[0;34m=\u001b[0m \u001b[0;36m0.05\u001b[0m\u001b[0;34m\u001b[0m\u001b[0m\n\u001b[0;32m----> 2\u001b[0;31m \u001b[0mM\u001b[0m \u001b[0;34m=\u001b[0m \u001b[0mY\u001b[0m\u001b[0;34m.\u001b[0m\u001b[0mshape\u001b[0m\u001b[0;34m[\u001b[0m\u001b[0;36m1\u001b[0m\u001b[0;34m]\u001b[0m\u001b[0;34m\u001b[0m\u001b[0m\n\u001b[0m\u001b[1;32m      3\u001b[0m \u001b[0malpha_bonferroni\u001b[0m \u001b[0;34m=\u001b[0m \u001b[0malpha\u001b[0m\u001b[0;34m/\u001b[0m\u001b[0mM\u001b[0m\u001b[0;34m\u001b[0m\u001b[0m\n\u001b[1;32m      4\u001b[0m \u001b[0mvol\u001b[0m \u001b[0;34m=\u001b[0m \u001b[0mcortex\u001b[0m\u001b[0;34m.\u001b[0m\u001b[0mVolume\u001b[0m\u001b[0;34m(\u001b[0m\u001b[0mp_statistic\u001b[0m\u001b[0;34m<=\u001b[0m\u001b[0;36m0.05\u001b[0m\u001b[0;34m,\u001b[0m \u001b[0msub\u001b[0m\u001b[0;34m,\u001b[0m \u001b[0mxfm\u001b[0m\u001b[0;34m,\u001b[0m \u001b[0mmask\u001b[0m \u001b[0;34m=\u001b[0m \u001b[0mmask\u001b[0m\u001b[0;34m,\u001b[0m \u001b[0mvmin\u001b[0m \u001b[0;34m=\u001b[0m \u001b[0;34m-\u001b[0m\u001b[0;36m2\u001b[0m\u001b[0;34m,\u001b[0m \u001b[0mvmax\u001b[0m \u001b[0;34m=\u001b[0m \u001b[0;36m2\u001b[0m\u001b[0;34m)\u001b[0m\u001b[0;34m\u001b[0m\u001b[0m\n\u001b[1;32m      5\u001b[0m \u001b[0m__\u001b[0m  \u001b[0;34m=\u001b[0m \u001b[0mcortex\u001b[0m\u001b[0;34m.\u001b[0m\u001b[0mquickflat\u001b[0m\u001b[0;34m.\u001b[0m\u001b[0mmake_figure\u001b[0m\u001b[0;34m(\u001b[0m\u001b[0mvol\u001b[0m\u001b[0;34m)\u001b[0m\u001b[0;34m\u001b[0m\u001b[0m\n",
      "\u001b[0;31mNameError\u001b[0m: name 'Y' is not defined"
     ]
    }
   ],
   "source": [
    "alpha = 0.05\n",
    "M = Y.shape[1]\n",
    "alpha_bonferroni = alpha/M\n",
    "vol = cortex.Volume(p_statistic<=alpha_bonferroni, sub, xfm, mask = mask, vmin = -2, vmax = 2)\n",
    "__  = cortex.quickflat.make_figure(vol)\n",
    "plt.title('Bonferroni correction', fontsize = 30)"
   ]
  },
  {
   "cell_type": "markdown",
   "metadata": {},
   "source": [
    "Other, less conservative FWER methods exist. Another method is to correct for the False Discovery Rate (FDR), i.e. limit the proportion of false positives among the rejected tests. One famous method is the Benjamini Hochberg Procedure. We implement it for you below and use it to control the FDR at q = 0.05:"
   ]
  },
  {
   "cell_type": "code",
   "execution_count": null,
   "metadata": {
    "collapsed": true
   },
   "outputs": [],
   "source": [
    "def FDR_BH(p_vals, q):\n",
    "    M = p_val_sorted.shape[0]\n",
    "    # sort the p_values\n",
    "    p_val_sorted = np.sort(p_vals)\n",
    "    threshold = 0\n",
    "    # go the p_values in order and find the largest k where P(k) <= k/M*q\n",
    "    for idx,p in enumerate(p_val_sorted):\n",
    "        if p <= idx*q/M:\n",
    "            threshold = p\n",
    "        else\n",
    "            break\n",
    "    return threshold\n",
    "\n",
    "vol = cortex.Volume(p_statistic<=alpha_bonferroni, sub, xfm, mask = mask, vmin = -2, vmax = 2)\n",
    "__  = cortex.quickflat.make_figure(vol)\n",
    "plt.title('FDR correction', fontsize = 30)"
   ]
  },
  {
   "cell_type": "markdown",
   "metadata": {},
   "source": [
    "You can see how this method rejects the null hypothesis at more voxels. Both methods control for multiple comparisons.\n",
    "\n",
    "## Predicting withheld data:\n",
    "\n",
    "Another method for testing if the weights of a learned model are meaningful and not due only to chance is to test them to predict new, unseen data. The idea is that if the weights we estimated are indicative of how the brain responds to the experimental conditions, then we can use them to predict the brain response for new data. Here, we introduce concepts that are very important for the statistics and machine learning fields:\n",
    "\n",
    "- Training set: is the part of the data you use to estimate your model. You can use this data as you wish. We will discuss overfitting next week and see why you might want to be careful with how much of the variance of this data you want your model to predict.\n",
    "- Test set: this test should remain untouched until the very end of your analysis, where you only use it to report your results. You should never go back to your analysis and change any parameters based on the performance of your model on the test set. \n",
    "\n",
    "We did not use yet the third run of our experiment. We will load it here and use it to test the performance of our model on it:"
   ]
  },
  {
   "cell_type": "code",
   "execution_count": 22,
   "metadata": {
    "collapsed": false
   },
   "outputs": [
    {
     "ename": "KeyError",
     "evalue": "'S2'",
     "output_type": "error",
     "traceback": [
      "\u001b[0;31m---------------------------------------------------------------------------\u001b[0m",
      "\u001b[0;31mKeyError\u001b[0m                                  Traceback (most recent call last)",
      "\u001b[0;32m<ipython-input-22-47f7271f25a5>\u001b[0m in \u001b[0;36m<module>\u001b[0;34m()\u001b[0m\n\u001b[1;32m      1\u001b[0m \u001b[0;32mimport\u001b[0m \u001b[0mcortex\u001b[0m\u001b[0;34m\u001b[0m\u001b[0m\n\u001b[1;32m      2\u001b[0m \u001b[0msub\u001b[0m\u001b[0;34m,\u001b[0m \u001b[0mxfm\u001b[0m \u001b[0;34m=\u001b[0m \u001b[0;34m'S2'\u001b[0m\u001b[0;34m,\u001b[0m \u001b[0;34m'S2_category_auto'\u001b[0m\u001b[0;34m\u001b[0m\u001b[0m\n\u001b[0;32m----> 3\u001b[0;31m \u001b[0mmask\u001b[0m \u001b[0;34m=\u001b[0m \u001b[0mcortex\u001b[0m\u001b[0;34m.\u001b[0m\u001b[0mdb\u001b[0m\u001b[0;34m.\u001b[0m\u001b[0mget_mask\u001b[0m\u001b[0;34m(\u001b[0m\u001b[0msub\u001b[0m\u001b[0;34m,\u001b[0m \u001b[0mxfm\u001b[0m\u001b[0;34m,\u001b[0m \u001b[0mtype\u001b[0m\u001b[0;34m=\u001b[0m\u001b[0;34m'cortical'\u001b[0m\u001b[0;34m)\u001b[0m\u001b[0;34m\u001b[0m\u001b[0m\n\u001b[0m\u001b[1;32m      4\u001b[0m \u001b[0mfname\u001b[0m \u001b[0;34m=\u001b[0m \u001b[0mos\u001b[0m\u001b[0;34m.\u001b[0m\u001b[0mpath\u001b[0m\u001b[0;34m.\u001b[0m\u001b[0mjoin\u001b[0m\u001b[0;34m(\u001b[0m\u001b[0mbasedir\u001b[0m\u001b[0;34m,\u001b[0m \u001b[0;34m'S2_categories1_{n}.nii.gz'\u001b[0m\u001b[0;34m)\u001b[0m \u001b[0;31m#S2_categories1_{n}.nii.gz\u001b[0m\u001b[0;34m\u001b[0m\u001b[0m\n\u001b[1;32m      5\u001b[0m \u001b[0;31m# fmri responses:\u001b[0m\u001b[0;34m\u001b[0m\u001b[0;34m\u001b[0m\u001b[0m\n",
      "\u001b[0;32m/Library/Frameworks/Python.framework/Versions/3.5/lib/python3.5/site-packages/cortex/database.py\u001b[0m in \u001b[0;36mget_mask\u001b[0;34m(self, subject, xfmname, type)\u001b[0m\n\u001b[1;32m    516\u001b[0m             \u001b[0;32mpass\u001b[0m\u001b[0;34m\u001b[0m\u001b[0m\n\u001b[1;32m    517\u001b[0m \u001b[0;34m\u001b[0m\u001b[0m\n\u001b[0;32m--> 518\u001b[0;31m         \u001b[0mfname\u001b[0m \u001b[0;34m=\u001b[0m \u001b[0mself\u001b[0m\u001b[0;34m.\u001b[0m\u001b[0mget_paths\u001b[0m\u001b[0;34m(\u001b[0m\u001b[0msubject\u001b[0m\u001b[0;34m)\u001b[0m\u001b[0;34m[\u001b[0m\u001b[0;34m'masks'\u001b[0m\u001b[0;34m]\u001b[0m\u001b[0;34m.\u001b[0m\u001b[0mformat\u001b[0m\u001b[0;34m(\u001b[0m\u001b[0mxfmname\u001b[0m\u001b[0;34m=\u001b[0m\u001b[0mxfmname\u001b[0m\u001b[0;34m,\u001b[0m \u001b[0mtype\u001b[0m\u001b[0;34m=\u001b[0m\u001b[0mtype\u001b[0m\u001b[0;34m)\u001b[0m\u001b[0;34m\u001b[0m\u001b[0m\n\u001b[0m\u001b[1;32m    519\u001b[0m         \u001b[0;32mtry\u001b[0m\u001b[0;34m:\u001b[0m\u001b[0;34m\u001b[0m\u001b[0m\n\u001b[1;32m    520\u001b[0m             \u001b[0;32mimport\u001b[0m \u001b[0mnibabel\u001b[0m\u001b[0;34m\u001b[0m\u001b[0m\n",
      "\u001b[0;32m/Library/Frameworks/Python.framework/Versions/3.5/lib/python3.5/site-packages/cortex/database.py\u001b[0m in \u001b[0;36mget_paths\u001b[0;34m(self, subject)\u001b[0m\n\u001b[1;32m    583\u001b[0m         \u001b[0msurfpath\u001b[0m \u001b[0;34m=\u001b[0m \u001b[0mos\u001b[0m\u001b[0;34m.\u001b[0m\u001b[0mpath\u001b[0m\u001b[0;34m.\u001b[0m\u001b[0mjoin\u001b[0m\u001b[0;34m(\u001b[0m\u001b[0mself\u001b[0m\u001b[0;34m.\u001b[0m\u001b[0mfilestore\u001b[0m\u001b[0;34m,\u001b[0m \u001b[0msubject\u001b[0m\u001b[0;34m,\u001b[0m \u001b[0;34m\"surfaces\"\u001b[0m\u001b[0;34m)\u001b[0m\u001b[0;34m\u001b[0m\u001b[0m\n\u001b[1;32m    584\u001b[0m \u001b[0;34m\u001b[0m\u001b[0m\n\u001b[0;32m--> 585\u001b[0;31m         \u001b[0;32mif\u001b[0m \u001b[0mself\u001b[0m\u001b[0;34m.\u001b[0m\u001b[0msubjects\u001b[0m\u001b[0;34m[\u001b[0m\u001b[0msubject\u001b[0m\u001b[0;34m]\u001b[0m\u001b[0;34m.\u001b[0m\u001b[0m_warning\u001b[0m \u001b[0;32mis\u001b[0m \u001b[0;32mnot\u001b[0m \u001b[0;32mNone\u001b[0m\u001b[0;34m:\u001b[0m\u001b[0;34m\u001b[0m\u001b[0m\n\u001b[0m\u001b[1;32m    586\u001b[0m             \u001b[0mwarnings\u001b[0m\u001b[0;34m.\u001b[0m\u001b[0mwarn\u001b[0m\u001b[0;34m(\u001b[0m\u001b[0mself\u001b[0m\u001b[0;34m.\u001b[0m\u001b[0msubjects\u001b[0m\u001b[0;34m[\u001b[0m\u001b[0msubject\u001b[0m\u001b[0;34m]\u001b[0m\u001b[0;34m.\u001b[0m\u001b[0m_warning\u001b[0m\u001b[0;34m)\u001b[0m\u001b[0;34m\u001b[0m\u001b[0m\n\u001b[1;32m    587\u001b[0m \u001b[0;34m\u001b[0m\u001b[0m\n",
      "\u001b[0;31mKeyError\u001b[0m: 'S2'"
     ]
    }
   ],
   "source": [
    "import cortex\n",
    "sub, xfm = 'S2', 'S2_category_auto'\n",
    "mask = cortex.db.get_mask(sub, xfm, type='cortical')\n",
    "fname = os.path.join(basedir, 'S2_categories1_{n}.nii.gz') #S2_categories1_{n}.nii.gz\n",
    "# fmri responses:\n",
    "Y_test = np.vstack([zscore(nds.fmri.load_data(fname.format(n=n), mask=mask, standardize=True)) for n in [3]])\n",
    "# stimuli:\n",
    "X_test = np.vstack([design[run] for run in ['run3']])\n",
    "\n",
    "\n",
    "plt.figure(figsize=(10,4))\n",
    "for i, (cond, label) in enumerate(zip(X_test.T, conditions)):\n",
    "    plt.plot(cond+i+0.2*i, label=label, lw=2)\n",
    "plt.title('Condition labels')\n",
    "_ = plt.legend(frameon=False, bbox_to_anchor=(1.4, 1))\n",
    "\n",
    "conv_X_test = np.zeros_like(X_test)\n",
    "for i in range(d):\n",
    "    conv_X_test[:,i] = np.convolve(X_test[:,i], hrf_1)[:n]\n",
    "    "
   ]
  },
  {
   "cell_type": "markdown",
   "metadata": {},
   "source": [
    "#### Breakout Session\n",
    "\n",
    "Using the weights you have estimated before:\n",
    "- First, use conv_X_test to predict the activity $ {\\bf \\hat Y_{test}}$.\n",
    "- Second, estimate the error ${\\bf Y_{test}-\\hat Y_{test}}$.\n",
    "- Then, estimate $\\bf \\boldsymbol \\sigma_{test}$, the mean squared error $\\sum_{i=0}^{N-1}({Y_{test}}_i -  {\\hat Y_{test}}_i)^2$. This will give you a vector corresponding to the mean squared error at every voxel.\n",
    "- Compute the coefficient of determination, which estimates how much of the data is being predicted:\n",
    "    $R^2_{\\bf test} = 1 - \\frac{\\bf \\boldsymbol \\sigma_{test}}{var({\\bf Y_{test}})} $.\n",
    "    Since we have already normalized every voxel to have a variance of 1, you can simplity the computation to:\n",
    "    $R^2_{\\bf test} = 1 - \\bf \\boldsymbol \\sigma_{test} $\n",
    "- Produce a flatmap of $R^2_{\\bf test}$\n",
    "- Then, use the previously computed $\\boldsymbol \\sigma$ using training data to produce a flatmap of $R^2_{\\bf train} = 1 - \\bf \\boldsymbol \\sigma_{} $"
   ]
  },
  {
   "cell_type": "code",
   "execution_count": null,
   "metadata": {
    "collapsed": true
   },
   "outputs": [],
   "source": [
    "# start by using the variables conv_X_test and weights to estimate Y_hat_test\n",
    "# you should estimate a variable mse_test\n",
    "# then use to plot it the following:\n",
    "# vol = cortex.Volume(1-mse_test, sub, xfm, mask = mask)\n",
    "# __  = cortex.quickflat.make_figure(vol)\n",
    "# plt.title('R2 test', fontsize = 30)\n",
    "# then plot the training R2:\n",
    "# vol = cortex.Volume(1-mse, sub, xfm, mask = mask)\n",
    "# __  = cortex.quickflat.make_figure(vol)\n",
    "# plt.title('R2 train', fontsize = 30)\n",
    "\n",
    "### STUDENT ANSWER\n",
    "Y_hat_test = conv_X_test * weights\n",
    "error = Y_test - Y_hat_test\n",
    "mse_test = np.sum((Y_test - Y_hat_test)**2, axis=0)\n",
    "vol = cortex.Volume(1-mse_test, sub, xfm, mask = mask)\n",
    "__  = cortex.quickflat.make_figure(vol)\n",
    "plt.title('R2 test', fontsize = 30)\n",
    "then plot the training R2:\n",
    "vol = cortex.Volume(1-mse, sub, xfm, mask = mask)\n",
    "__  = cortex.quickflat.make_figure(vol)\n",
    "plt.title('R2 train', fontsize = 30)"
   ]
  },
  {
   "cell_type": "markdown",
   "metadata": {},
   "source": [
    "- What is the difference between the two plots?\n",
    "\n",
    "Additionally, one of the big fallacies in the fMRI litterature was something called double dipping. you should be careful to never use the same data to make and test your hypotheses! "
   ]
  }
 ],
 "metadata": {
  "kernelspec": {
   "display_name": "Python 3",
   "language": "python",
   "name": "python3"
  },
  "language_info": {
   "codemirror_mode": {
    "name": "ipython",
    "version": 3
   },
   "file_extension": ".py",
   "mimetype": "text/x-python",
   "name": "python",
   "nbconvert_exporter": "python",
   "pygments_lexer": "ipython3",
   "version": "3.5.2"
  }
 },
 "nbformat": 4,
 "nbformat_minor": 0
}
