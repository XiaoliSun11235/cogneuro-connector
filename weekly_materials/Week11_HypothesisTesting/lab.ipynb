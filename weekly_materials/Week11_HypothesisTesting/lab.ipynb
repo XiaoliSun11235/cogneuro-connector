{
 "cells": [
  {
   "cell_type": "markdown",
   "metadata": {},
   "source": [
    "# Contrast computation and testing\n",
    "\n",
    "In this homework, we will use the same dataset we used in the lecture. We will contrast additional conditions from that experiment."
   ]
  },
  {
   "cell_type": "code",
   "execution_count": null,
   "metadata": {
    "collapsed": true
   },
   "outputs": [],
   "source": [
    "# Imports\n",
    "import neurods as nds\n",
    "import numpy as np\n",
    "import os\n",
    "import matplotlib.pyplot as plt\n",
    "# Configure defaults for plots\n",
    "plt.rcParams['image.interpolation'] = 'nearest'\n",
    "plt.rcParams['image.aspect'] = 'auto'\n",
    "plt.rcParams['image.cmap'] = 'viridis'\n",
    "%matplotlib inline"
   ]
  },
  {
   "cell_type": "code",
   "execution_count": null,
   "metadata": {
    "collapsed": false
   },
   "outputs": [],
   "source": [
    "# The ordinary least squares solution for estimating model weights\n",
    "from numpy.linalg import inv\n",
    "def OLS(X,Y):\n",
    "    return np.dot(inv(np.dot(X.T,X)),np.dot(X.T,Y))"
   ]
  },
  {
   "cell_type": "markdown",
   "metadata": {},
   "source": [
    "### Modeling voxel responses\n",
    "\n",
    "Remember, we are using regression because we want to model different voxel responses to a set of conditions. \n",
    "\n",
    "We do the following steps:\n",
    " - Create a design matrix that describes the conditions (or characteristics) of our stimulus time course. (In the lectures we usually provide you with the design matrix. However, when you do an experiment, this is something you have to create in order to draw conclusions. You basically need to specify what the participant observes at each point in time.)\n",
    " - Convolve this design matrix with the hemodynamic response function to account for the fMRI BOLD response. \n",
    " - We use linear regression to find out which conditions (e.g. faces, objects, places) are driving a voxel's response. (*Side note: This assumes that each voxel's response was a linear combination of all the conditions (the convolved time courses of the stimuli) and our goal is to recover the parameters (or weights) of this linear combination*)"
   ]
  },
  {
   "cell_type": "markdown",
   "metadata": {},
   "source": [
    "** Load the design matrix: stimulus time course**"
   ]
  },
  {
   "cell_type": "code",
   "execution_count": null,
   "metadata": {
    "collapsed": false
   },
   "outputs": [],
   "source": [
    "basedir = os.path.join(nds.io.data_list['fmri'],'categories')\n",
    "# Load stimulus design matrix\n",
    "design = np.load(os.path.join(basedir,'experiment_design.npz'))\n",
    "conditions = design['conditions'].tolist()\n",
    "print('Conditions: ', conditions)\n",
    "design_run1 = design['run1']"
   ]
  },
  {
   "cell_type": "markdown",
   "metadata": {},
   "source": [
    "**Load two runs of fMRI response (run1 and run2) and two runs (run1 and run2) of the stimulus time course:**\n",
    "\n",
    "When we load two (or more) separate runs of fMRI responses, we normalize (zscore) every run separately. This is an operation that we do in addition to the within voxel normalization we do using the *standardize=True* argument to *nds.fmri.load_data* function. \n",
    "\n",
    "Hence, we will use the *zscore* function after we load one run of fMRI data."
   ]
  },
  {
   "cell_type": "code",
   "execution_count": null,
   "metadata": {
    "collapsed": false,
    "scrolled": false
   },
   "outputs": [],
   "source": [
    "from scipy.stats import zscore\n",
    "import cortex\n",
    "sub, xfm = 'S2', 'S2_category_auto'\n",
    "mask = cortex.db.get_mask(sub, xfm, type='cortical')\n",
    "fname = os.path.join(basedir, 'S2_categories1_{n}.nii.gz') #S2_categories1_{n}.nii.gz\n",
    "\n",
    "# Load fmri responses:\n",
    "Y = np.vstack([zscore(nds.fmri.load_data(fname.format(n=n), mask=mask, standardize=True))\n",
    "               for n in [1,2]])\n",
    "\n",
    "# stimuli:\n",
    "X = np.vstack([design[run] for run in ['run1','run2']])\n",
    "\n",
    "plt.figure(figsize=(10,4))\n",
    "plt.imshow(Y)\n",
    "plt.title('Voxel responses')\n",
    "\n",
    "plt.figure(figsize=(10,4))\n",
    "for i, (cond, label) in enumerate(zip(X.T, conditions)):\n",
    "    plt.plot(cond+i+0.2*i, label=label, lw=2)\n",
    "plt.title('Condition labels')\n",
    "_ = plt.legend(frameon=False, bbox_to_anchor=(1.4, 1))"
   ]
  },
  {
   "cell_type": "markdown",
   "metadata": {},
   "source": [
    "**Convolve the design matrix with the hemodynamic response function to account for the fMRI BOLD response:**\n",
    "\n",
    "We learned in the previous lectures that we can use the *np.convolve* function to do this."
   ]
  },
  {
   "cell_type": "code",
   "execution_count": null,
   "metadata": {
    "collapsed": false
   },
   "outputs": [],
   "source": [
    "from neurods.fmri import hrf as generate_hrf\n",
    "t_hrf, hrf_1 = generate_hrf(tr=2)\n",
    "n, d = X.shape\n",
    "\n",
    "conv_X = np.zeros_like(X)\n",
    "for i in range(d):\n",
    "    conv_X[:,i] = np.convolve(X[:,i], hrf_1)[:n]\n",
    "    \n",
    "for i, (cond, label) in enumerate(zip(conv_X.T, conditions)):\n",
    "    plt.plot(cond+i+0.2*i, label=label, lw=2)\n",
    "    \n",
    "plt.title('Condition labels')\n",
    "_ = plt.legend(frameon=False, bbox_to_anchor=(1.4, 1))"
   ]
  },
  {
   "cell_type": "markdown",
   "metadata": {},
   "source": [
    "**Perform linear regression and estimate model weights:**\n",
    "\n",
    "We want to find the response of all the voxels in the brain to these 5 different conditions (body, faces, object, places, scrambled). \n",
    "\n",
    "Instead of a one dimensional output $Y$, we have a many dimensional output ${\\bf Y}$ that describes time and number of voxels."
   ]
  },
  {
   "cell_type": "code",
   "execution_count": null,
   "metadata": {
    "collapsed": false
   },
   "outputs": [],
   "source": [
    "print(\"The size of the fMRI responses: {}\".format(Y.shape))\n",
    "print(\"The size of the convolved design matrix: {}\".format(conv_X.shape))"
   ]
  },
  {
   "cell_type": "code",
   "execution_count": null,
   "metadata": {
    "collapsed": false,
    "scrolled": false
   },
   "outputs": [],
   "source": [
    "weights = OLS(conv_X, Y)\n",
    "print('The size of the estimated weights is {}'.format(weights.shape))"
   ]
  },
  {
   "cell_type": "markdown",
   "metadata": {},
   "source": [
    "\n",
    "# Hypothesis Testing\n",
    "\n",
    "In order to draw conclusions (or to make inferences) about what conditions are represented in the brain data we first need to estimate an appropriate statistic from the data. We will perform something called a t-test.\n",
    "\n"
   ]
  },
  {
   "cell_type": "markdown",
   "metadata": {},
   "source": [
    "### Contrasting conditions\n",
    " \n",
    "In class, we used the following vector to contrast faces - places: **contrast: [0, 1, 0, -1, 0]**.\n",
    "\n",
    "Now, create a new vector that would test whether a voxel is more responsive to **bodies** than to **faces**.\n",
    "\n",
    "Then, like we did in class:\n",
    "- compute the mse\n",
    "- use the t-stat function from class to compute:\n",
    "$$ t_v = \\frac{c^T \\hat\\beta_v}{\\sqrt{\\hat{\\sigma}^2 c^T (X^T X)^{-1}c}}$$\n",
    "for each voxel. \n",
    "- make a flatmap of the t-statistics.\n"
   ]
  },
  {
   "cell_type": "code",
   "execution_count": null,
   "metadata": {
    "collapsed": false
   },
   "outputs": [],
   "source": [
    "### STUDENT ANSWER\n"
   ]
  },
  {
   "cell_type": "markdown",
   "metadata": {},
   "source": [
    "Now we would like to find which voxels are significantly more responsive when the subject sees bodies than when they see faces.\n",
    "\n",
    "- convert the t-statistics to p-values for each voxel, using the tdistribution.cdf function we used in class (imported below)\n",
    "- using a significance level of $\\alpha = 0.05$ and using the **Bonferroni** correction, find the threshold of significance to use\n",
    "- make a flatmap of the voxels thresholded by significance\n",
    "- is the result different from the one we saw in class?"
   ]
  },
  {
   "cell_type": "code",
   "execution_count": null,
   "metadata": {
    "collapsed": false
   },
   "outputs": [],
   "source": [
    "from scipy.stats import t as tdistribution\n",
    "### STUDENT ANSWER\n"
   ]
  }
 ],
 "metadata": {
  "kernelspec": {
   "display_name": "Python 3",
   "language": "python",
   "name": "python3"
  },
  "language_info": {
   "codemirror_mode": {
    "name": "ipython",
    "version": 3
   },
   "file_extension": ".py",
   "mimetype": "text/x-python",
   "name": "python",
   "nbconvert_exporter": "python",
   "pygments_lexer": "ipython3",
   "version": "3.5.2"
  }
 },
 "nbformat": 4,
 "nbformat_minor": 0
}
