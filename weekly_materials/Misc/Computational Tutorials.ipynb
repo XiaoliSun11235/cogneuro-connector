{
 "cells": [
  {
   "cell_type": "code",
   "execution_count": 1,
   "metadata": {
    "collapsed": true
   },
   "outputs": [],
   "source": [
    "import numpy as np"
   ]
  },
  {
   "cell_type": "markdown",
   "metadata": {},
   "source": [
    "# Matrix transpose\n",
    "\n",
    "A matrix is basically a collection of rows (or a collection of columns depending on the software you're using)."
   ]
  },
  {
   "cell_type": "code",
   "execution_count": 2,
   "metadata": {
    "collapsed": false
   },
   "outputs": [
    {
     "name": "stdout",
     "output_type": "stream",
     "text": [
      "[[ 1  2  3  4]\n",
      " [ 5  6  7  8]\n",
      " [ 9 10 11 12]]\n"
     ]
    }
   ],
   "source": [
    "row1 = [1, 2, 3, 4]\n",
    "row2 = [5, 6 ,7 , 8]\n",
    "row3 = [9, 10, 11, 12]\n",
    "matrix = np.array([row1, row2, row3])\n",
    "print(matrix)"
   ]
  },
  {
   "cell_type": "markdown",
   "metadata": {},
   "source": [
    "However, what if we wanted to swap the rows and the columns? A matrix transpose lets us do this:"
   ]
  },
  {
   "cell_type": "code",
   "execution_count": 3,
   "metadata": {
    "collapsed": false
   },
   "outputs": [
    {
     "data": {
      "text/plain": [
       "array([[ 1,  5,  9],\n",
       "       [ 2,  6, 10],\n",
       "       [ 3,  7, 11],\n",
       "       [ 4,  8, 12]])"
      ]
     },
     "execution_count": 3,
     "metadata": {},
     "output_type": "execute_result"
    }
   ],
   "source": [
    "# Now, the first row becomes the first column\n",
    "np.transpose(matrix)\n",
    "\n",
    "# Or with this shorthand:\n",
    "matrix.T"
   ]
  },
  {
   "cell_type": "markdown",
   "metadata": {},
   "source": [
    "We often want to do this because matrix algebra often requires that rows / columns match up. For example, if you have two matrices of shape (a, b), and (c, b), then a dot product requires that the two inner dimensions be the same (this is why a dot product is often called an \"inner product\"."
   ]
  },
  {
   "cell_type": "code",
   "execution_count": 4,
   "metadata": {
    "collapsed": false
   },
   "outputs": [
    {
     "data": {
      "text/plain": [
       "(3, 4)"
      ]
     },
     "execution_count": 4,
     "metadata": {},
     "output_type": "execute_result"
    }
   ],
   "source": [
    "matrix.shape"
   ]
  },
  {
   "cell_type": "code",
   "execution_count": 5,
   "metadata": {
    "collapsed": false
   },
   "outputs": [
    {
     "ename": "ValueError",
     "evalue": "shapes (3,4) and (3,4) not aligned: 4 (dim 1) != 3 (dim 0)",
     "output_type": "error",
     "traceback": [
      "\u001b[0;31m---------------------------------------------------------------------------\u001b[0m",
      "\u001b[0;31mValueError\u001b[0m                                Traceback (most recent call last)",
      "\u001b[0;32m<ipython-input-5-1cffddcf48a5>\u001b[0m in \u001b[0;36m<module>\u001b[0;34m()\u001b[0m\n\u001b[0;32m----> 1\u001b[0;31m \u001b[0mnp\u001b[0m\u001b[0;34m.\u001b[0m\u001b[0mdot\u001b[0m\u001b[0;34m(\u001b[0m\u001b[0mmatrix\u001b[0m\u001b[0;34m,\u001b[0m \u001b[0mmatrix\u001b[0m\u001b[0;34m)\u001b[0m\u001b[0;34m\u001b[0m\u001b[0m\n\u001b[0m",
      "\u001b[0;31mValueError\u001b[0m: shapes (3,4) and (3,4) not aligned: 4 (dim 1) != 3 (dim 0)"
     ]
    }
   ],
   "source": [
    "np.dot(matrix, matrix)"
   ]
  },
  {
   "cell_type": "code",
   "execution_count": 6,
   "metadata": {
    "collapsed": false
   },
   "outputs": [
    {
     "data": {
      "text/plain": [
       "array([[ 30,  70, 110],\n",
       "       [ 70, 174, 278],\n",
       "       [110, 278, 446]])"
      ]
     },
     "execution_count": 6,
     "metadata": {},
     "output_type": "execute_result"
    }
   ],
   "source": [
    "# Using a transpose allows us to compute the dot product\n",
    "np.dot(matrix, matrix.T)"
   ]
  },
  {
   "cell_type": "markdown",
   "metadata": {},
   "source": [
    "# List comprehensions\n",
    "`for` loops are one of the most common tools in coding. They let us iterate through a set of data and do something to each component. Here's how we'd write a for loop:"
   ]
  },
  {
   "cell_type": "code",
   "execution_count": 7,
   "metadata": {
    "collapsed": false
   },
   "outputs": [
    {
     "name": "stdout",
     "output_type": "stream",
     "text": [
      "[0 1 2 3 4 5 6 7 8 9]\n",
      "[0, 1, 4, 9, 16, 25, 36, 49, 64, 81]\n"
     ]
    }
   ],
   "source": [
    "# Our original data\n",
    "my_data = np.arange(10)\n",
    "\n",
    "# We'll create an empty list and populate it with new values\n",
    "new_data = []\n",
    "for i_data in my_data:\n",
    "    new_data.append(i_data ** 2)\n",
    "print(my_data)\n",
    "print(new_data)"
   ]
  },
  {
   "cell_type": "markdown",
   "metadata": {},
   "source": [
    "However, what if we wanted a quicker way to do this. List comprehensions are a great way to very succinctly iterate through an object, do something on each iteration, and put the outputs in a list. The list will have length == `n_iterations`. For example..."
   ]
  },
  {
   "cell_type": "code",
   "execution_count": 8,
   "metadata": {
    "collapsed": false
   },
   "outputs": [
    {
     "name": "stdout",
     "output_type": "stream",
     "text": [
      "[0, 1, 4, 9, 16, 25, 36, 49, 64, 81]\n"
     ]
    }
   ],
   "source": [
    "# To create a list comprehension, we construct it like this:\n",
    "new_data = [i_data ** 2 for i_data in my_data]\n",
    "print(new_data)"
   ]
  },
  {
   "cell_type": "markdown",
   "metadata": {},
   "source": [
    "Now, we've collapsed 3 lines of code into 1! We can also use list comprehensions to create new variables from scratch:"
   ]
  },
  {
   "cell_type": "code",
   "execution_count": 9,
   "metadata": {
    "collapsed": false
   },
   "outputs": [
    {
     "name": "stdout",
     "output_type": "stream",
     "text": [
      "['name_0', 'name_1', 'name_2', 'name_3', 'name_4', 'name_5', 'name_6', 'name_7', 'name_8', 'name_9']\n"
     ]
    }
   ],
   "source": [
    "my_names = ['name_%s' %i for i in range(10)]\n",
    "print(my_names)"
   ]
  },
  {
   "cell_type": "markdown",
   "metadata": {},
   "source": [
    "Or we can use it with a function:"
   ]
  },
  {
   "cell_type": "code",
   "execution_count": 10,
   "metadata": {
    "collapsed": false
   },
   "outputs": [
    {
     "name": "stdout",
     "output_type": "stream",
     "text": [
      "[5.0, 5.5, 6.0, 6.5, 7.0, 7.5, 8.0, 8.5, 9.0, 9.5]\n"
     ]
    }
   ],
   "source": [
    "def add_10_and_divide_by_2(num):\n",
    "    return (num + 10) / 2.\n",
    "\n",
    "new_data = [add_10_and_divide_by_2(i) for i in my_data]\n",
    "print(new_data)"
   ]
  },
  {
   "cell_type": "markdown",
   "metadata": {},
   "source": [
    "List comprehensions are really powerful, but be careful. If the thing you're doing on each iteration is too complicated, it can make the code really hard to read. For example:"
   ]
  },
  {
   "cell_type": "code",
   "execution_count": 11,
   "metadata": {
    "collapsed": false
   },
   "outputs": [
    {
     "name": "stdout",
     "output_type": "stream",
     "text": [
      "[0.20000000000000001, 0.10000000000000001, 0.066666666666666666, 0.050000000000000003, 0.040000000000000001, 0.033333333333333333, 0.028571428571428571, 0.025000000000000001, 0.022222222222222223]\n"
     ]
    }
   ],
   "source": [
    "new_data = [np.abs(-1 * (i ** 2)) / np.ceil(((i ** 3) / 4. * 20)) for i in range(1, 10)]\n",
    "print(new_data)"
   ]
  },
  {
   "cell_type": "markdown",
   "metadata": {},
   "source": [
    "If your list comprehension is more than simple, it's probably better to just use a `for` loop."
   ]
  },
  {
   "cell_type": "markdown",
   "metadata": {},
   "source": [
    "# Padding an array"
   ]
  },
  {
   "cell_type": "code",
   "execution_count": 12,
   "metadata": {
    "collapsed": false
   },
   "outputs": [
    {
     "name": "stdout",
     "output_type": "stream",
     "text": [
      "('a ', array([[[ 0.58419013,  0.70809998],\n",
      "        [ 0.91496589,  0.40087413],\n",
      "        [ 0.92188999,  0.56815776]],\n",
      "\n",
      "       [[ 0.41130417,  0.26131353],\n",
      "        [ 0.19257956,  0.86267798],\n",
      "        [ 0.6048264 ,  0.73677876]]]))\n",
      "('a_pad ', array([[[ 0.58419013,  0.70809998],\n",
      "        [ 0.91496589,  0.40087413],\n",
      "        [ 0.92188999,  0.56815776]],\n",
      "\n",
      "       [[ 0.41130417,  0.26131353],\n",
      "        [ 0.19257956,  0.86267798],\n",
      "        [ 0.6048264 ,  0.73677876]],\n",
      "\n",
      "       [[ 0.        ,  0.        ],\n",
      "        [ 0.        ,  0.        ],\n",
      "        [ 0.        ,  0.        ]],\n",
      "\n",
      "       [[ 0.        ,  0.        ],\n",
      "        [ 0.        ,  0.        ],\n",
      "        [ 0.        ,  0.        ]]]))\n"
     ]
    }
   ],
   "source": [
    "# Side note for fancy code below: demo of how to pad an array\n",
    "a = np.random.rand(2,3,2)\n",
    "print('a ', a)\n",
    "a_pad = np.pad(a, [(0,2), (0,0), (0,0)], mode='constant', constant_values=0)\n",
    "print('a_pad ', a_pad)"
   ]
  },
  {
   "cell_type": "code",
   "execution_count": null,
   "metadata": {
    "collapsed": true
   },
   "outputs": [],
   "source": []
  }
 ],
 "metadata": {
  "hide_input": false,
  "kernelspec": {
   "display_name": "Python 2",
   "language": "python",
   "name": "python2"
  },
  "language_info": {
   "codemirror_mode": {
    "name": "ipython",
    "version": 2
   },
   "file_extension": ".py",
   "mimetype": "text/x-python",
   "name": "python",
   "nbconvert_exporter": "python",
   "pygments_lexer": "ipython2",
   "version": "2.7.11"
  }
 },
 "nbformat": 4,
 "nbformat_minor": 0
}
