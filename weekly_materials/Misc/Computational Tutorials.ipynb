{
 "cells": [
  {
   "cell_type": "code",
   "execution_count": 1,
   "metadata": {
    "collapsed": true
   },
   "outputs": [],
   "source": [
    "import numpy as np"
   ]
  },
  {
   "cell_type": "markdown",
   "metadata": {},
   "source": [
    "# Matrix transpose\n",
    "\n",
    "A matrix is basically a collection of rows (or a collection of columns depending on the software you're using)."
   ]
  },
  {
   "cell_type": "code",
   "execution_count": 2,
   "metadata": {
    "collapsed": false
   },
   "outputs": [
    {
     "name": "stdout",
     "output_type": "stream",
     "text": [
      "[[ 1  2  3  4]\n",
      " [ 5  6  7  8]\n",
      " [ 9 10 11 12]]\n"
     ]
    }
   ],
   "source": [
    "row1 = [1, 2, 3, 4]\n",
    "row2 = [5, 6 ,7 , 8]\n",
    "row3 = [9, 10, 11, 12]\n",
    "matrix = np.array([row1, row2, row3])\n",
    "print(matrix)"
   ]
  },
  {
   "cell_type": "markdown",
   "metadata": {},
   "source": [
    "However, what if we wanted to swap the rows and the columns? A matrix transpose lets us do this:"
   ]
  },
  {
   "cell_type": "code",
   "execution_count": 3,
   "metadata": {
    "collapsed": false
   },
   "outputs": [
    {
     "data": {
      "text/plain": [
       "array([[ 1,  5,  9],\n",
       "       [ 2,  6, 10],\n",
       "       [ 3,  7, 11],\n",
       "       [ 4,  8, 12]])"
      ]
     },
     "execution_count": 3,
     "metadata": {},
     "output_type": "execute_result"
    }
   ],
   "source": [
    "# Now, the first row becomes the first column\n",
    "np.transpose(matrix)\n",
    "\n",
    "# Or with this shorthand:\n",
    "matrix.T"
   ]
  },
  {
   "cell_type": "markdown",
   "metadata": {},
   "source": [
    "We often want to do this because matrix algebra often requires that rows / columns match up. For example, if you have two matrices of shape (a, b), and (c, b), then a dot product requires that the two inner dimensions be the same (this is why a dot product is often called an \"inner product\"."
   ]
  },
  {
   "cell_type": "code",
   "execution_count": 4,
   "metadata": {
    "collapsed": false
   },
   "outputs": [
    {
     "data": {
      "text/plain": [
       "(3, 4)"
      ]
     },
     "execution_count": 4,
     "metadata": {},
     "output_type": "execute_result"
    }
   ],
   "source": [
    "matrix.shape"
   ]
  },
  {
   "cell_type": "code",
   "execution_count": 5,
   "metadata": {
    "collapsed": false
   },
   "outputs": [
    {
     "ename": "ValueError",
     "evalue": "shapes (3,4) and (3,4) not aligned: 4 (dim 1) != 3 (dim 0)",
     "output_type": "error",
     "traceback": [
      "\u001b[0;31m---------------------------------------------------------------------------\u001b[0m",
      "\u001b[0;31mValueError\u001b[0m                                Traceback (most recent call last)",
      "\u001b[0;32m<ipython-input-5-1cffddcf48a5>\u001b[0m in \u001b[0;36m<module>\u001b[0;34m()\u001b[0m\n\u001b[0;32m----> 1\u001b[0;31m \u001b[0mnp\u001b[0m\u001b[0;34m.\u001b[0m\u001b[0mdot\u001b[0m\u001b[0;34m(\u001b[0m\u001b[0mmatrix\u001b[0m\u001b[0;34m,\u001b[0m \u001b[0mmatrix\u001b[0m\u001b[0;34m)\u001b[0m\u001b[0;34m\u001b[0m\u001b[0m\n\u001b[0m",
      "\u001b[0;31mValueError\u001b[0m: shapes (3,4) and (3,4) not aligned: 4 (dim 1) != 3 (dim 0)"
     ]
    }
   ],
   "source": [
    "np.dot(matrix, matrix)"
   ]
  },
  {
   "cell_type": "code",
   "execution_count": 6,
   "metadata": {
    "collapsed": false
   },
   "outputs": [
    {
     "data": {
      "text/plain": [
       "array([[ 30,  70, 110],\n",
       "       [ 70, 174, 278],\n",
       "       [110, 278, 446]])"
      ]
     },
     "execution_count": 6,
     "metadata": {},
     "output_type": "execute_result"
    }
   ],
   "source": [
    "# Using a transpose allows us to compute the dot product\n",
    "np.dot(matrix, matrix.T)"
   ]
  },
  {
   "cell_type": "markdown",
   "metadata": {},
   "source": [
    "# List comprehensions\n",
    "`for` loops are one of the most common tools in coding. They let us iterate through a set of data and do something to each component. Here's how we'd write a for loop:"
   ]
  },
  {
   "cell_type": "code",
   "execution_count": 7,
   "metadata": {
    "collapsed": false
   },
   "outputs": [
    {
     "name": "stdout",
     "output_type": "stream",
     "text": [
      "[0 1 2 3 4 5 6 7 8 9]\n",
      "[0, 1, 4, 9, 16, 25, 36, 49, 64, 81]\n"
     ]
    }
   ],
   "source": [
    "# Our original data\n",
    "my_data = np.arange(10)\n",
    "\n",
    "# We'll create an empty list and populate it with new values\n",
    "new_data = []\n",
    "for i_data in my_data:\n",
    "    new_data.append(i_data ** 2)\n",
    "print(my_data)\n",
    "print(new_data)"
   ]
  },
  {
   "cell_type": "markdown",
   "metadata": {},
   "source": [
    "However, what if we wanted a quicker way to do this. List comprehensions are a great way to very succinctly iterate through an object, do something on each iteration, and put the outputs in a list. The list will have length == `n_iterations`. For example..."
   ]
  },
  {
   "cell_type": "code",
   "execution_count": 8,
   "metadata": {
    "collapsed": false
   },
   "outputs": [
    {
     "name": "stdout",
     "output_type": "stream",
     "text": [
      "[0, 1, 4, 9, 16, 25, 36, 49, 64, 81]\n"
     ]
    }
   ],
   "source": [
    "# To create a list comprehension, we construct it like this:\n",
    "new_data = [i_data ** 2 for i_data in my_data]\n",
    "print(new_data)"
   ]
  },
  {
   "cell_type": "markdown",
   "metadata": {},
   "source": [
    "Now, we've collapsed 3 lines of code into 1! We can also use list comprehensions to create new variables from scratch:"
   ]
  },
  {
   "cell_type": "code",
   "execution_count": 9,
   "metadata": {
    "collapsed": false
   },
   "outputs": [
    {
     "name": "stdout",
     "output_type": "stream",
     "text": [
      "['name_0', 'name_1', 'name_2', 'name_3', 'name_4', 'name_5', 'name_6', 'name_7', 'name_8', 'name_9']\n"
     ]
    }
   ],
   "source": [
    "my_names = ['name_%s' %i for i in range(10)]\n",
    "print(my_names)"
   ]
  },
  {
   "cell_type": "markdown",
   "metadata": {},
   "source": [
    "Or we can use it with a function:"
   ]
  },
  {
   "cell_type": "code",
   "execution_count": 10,
   "metadata": {
    "collapsed": false
   },
   "outputs": [
    {
     "name": "stdout",
     "output_type": "stream",
     "text": [
      "[5.0, 5.5, 6.0, 6.5, 7.0, 7.5, 8.0, 8.5, 9.0, 9.5]\n"
     ]
    }
   ],
   "source": [
    "def add_10_and_divide_by_2(num):\n",
    "    return (num + 10) / 2.\n",
    "\n",
    "new_data = [add_10_and_divide_by_2(i) for i in my_data]\n",
    "print(new_data)"
   ]
  },
  {
   "cell_type": "markdown",
   "metadata": {},
   "source": [
    "List comprehensions are really powerful, but be careful. If the thing you're doing on each iteration is too complicated, it can make the code really hard to read. For example:"
   ]
  },
  {
   "cell_type": "code",
   "execution_count": 11,
   "metadata": {
    "collapsed": false
   },
   "outputs": [
    {
     "name": "stdout",
     "output_type": "stream",
     "text": [
      "[0.20000000000000001, 0.10000000000000001, 0.066666666666666666, 0.050000000000000003, 0.040000000000000001, 0.033333333333333333, 0.028571428571428571, 0.025000000000000001, 0.022222222222222223]\n"
     ]
    }
   ],
   "source": [
    "new_data = [np.abs(-1 * (i ** 2)) / np.ceil(((i ** 3) / 4. * 20)) for i in range(1, 10)]\n",
    "print(new_data)"
   ]
  },
  {
   "cell_type": "markdown",
   "metadata": {},
   "source": [
    "If your list comprehension is more than simple, it's probably better to just use a `for` loop."
   ]
  },
  {
   "cell_type": "markdown",
   "metadata": {},
   "source": [
    "# Padding an array"
   ]
  },
  {
   "cell_type": "code",
   "execution_count": 12,
   "metadata": {
    "collapsed": false
   },
   "outputs": [
    {
     "name": "stdout",
     "output_type": "stream",
     "text": [
      "('a ', array([[[ 0.58419013,  0.70809998],\n",
      "        [ 0.91496589,  0.40087413],\n",
      "        [ 0.92188999,  0.56815776]],\n",
      "\n",
      "       [[ 0.41130417,  0.26131353],\n",
      "        [ 0.19257956,  0.86267798],\n",
      "        [ 0.6048264 ,  0.73677876]]]))\n",
      "('a_pad ', array([[[ 0.58419013,  0.70809998],\n",
      "        [ 0.91496589,  0.40087413],\n",
      "        [ 0.92188999,  0.56815776]],\n",
      "\n",
      "       [[ 0.41130417,  0.26131353],\n",
      "        [ 0.19257956,  0.86267798],\n",
      "        [ 0.6048264 ,  0.73677876]],\n",
      "\n",
      "       [[ 0.        ,  0.        ],\n",
      "        [ 0.        ,  0.        ],\n",
      "        [ 0.        ,  0.        ]],\n",
      "\n",
      "       [[ 0.        ,  0.        ],\n",
      "        [ 0.        ,  0.        ],\n",
      "        [ 0.        ,  0.        ]]]))\n"
     ]
    }
   ],
   "source": [
    "# Side note for fancy code below: demo of how to pad an array\n",
    "a = np.random.rand(2,3,2)\n",
    "print('a ', a)\n",
    "a_pad = np.pad(a, [(0,2), (0,0), (0,0)], mode='constant', constant_values=0)\n",
    "print('a_pad ', a_pad)"
   ]
  },
  {
   "cell_type": "markdown",
   "metadata": {
    "collapsed": true
   },
   "source": [
    "# Creating an MNE events array\n",
    "As we've all seen, it can be a little confusing to create an MNE events array from timing information. This is a quick overview of how to do this.\n",
    "\n",
    "Let's say that we've got a list of event times (in seconds). We have two event types. How can we turn this into an array that MNE can use to chunk up our data into events (which are called `Epochs` in MNE)?\n",
    "\n",
    "We basically need to do the following things:\n",
    "\n",
    "1. Turn event times (in seconds) into sample indices\n",
    "2. Create a unique integer for each event type, and assign one to each event.\n",
    "3. Combine the above two items into an array of shape `(n_events, 3)`.\n",
    "  * The first column will be the start of each event (in samples)\n",
    "  * The second column can just be all zeros.\n",
    "  * The third column is the integer for that event type.\n",
    "4. (optional) create a dictionary that maps event type names onto the event type integers.\n",
    "\n",
    "We'll step through this below..."
   ]
  },
  {
   "cell_type": "code",
   "execution_count": 24,
   "metadata": {
    "collapsed": false
   },
   "outputs": [
    {
     "name": "stdout",
     "output_type": "stream",
     "text": [
      "Opening raw data file /home/shared/cogneuro-connector/data/ecog/chords_task/ecog_resamp-raw.fif...\n",
      "Isotrak not found\n",
      "    Range : 0 ... 219521 =      0.000 ...   439.042 secs\n",
      "Ready.\n",
      "Reading 0 ... 219521  =      0.000 ...   439.042 secs...\n"
     ]
    },
    {
     "data": {
      "text/html": [
       "<table border=\"1\" class=\"dataframe\">\n",
       "    <thead>\n",
       "        <tr>\n",
       "            <th>start</th> <th>type</th> <th>stop</th>\n",
       "        </tr>\n",
       "    </thead>\n",
       "    <tbody>\n",
       "        <tr>\n",
       "            <td>4.96914</td> <td>consonant</td> <td>5.66914</td>\n",
       "        </tr>\n",
       "    </tbody>\n",
       "        <tr>\n",
       "            <td>10.0105</td> <td>consonant</td> <td>10.7105</td>\n",
       "        </tr>\n",
       "    </tbody>\n",
       "        <tr>\n",
       "            <td>28.3729</td> <td>consonant</td> <td>29.0729</td>\n",
       "        </tr>\n",
       "    </tbody>\n",
       "        <tr>\n",
       "            <td>47.8371</td> <td>consonant</td> <td>48.5371</td>\n",
       "        </tr>\n",
       "    </tbody>\n",
       "        <tr>\n",
       "            <td>58.3871</td> <td>consonant</td> <td>59.0871</td>\n",
       "        </tr>\n",
       "    </tbody>\n",
       "        <tr>\n",
       "            <td>65.2148</td> <td>consonant</td> <td>65.9148</td>\n",
       "        </tr>\n",
       "    </tbody>\n",
       "        <tr>\n",
       "            <td>75.5478</td> <td>consonant</td> <td>76.2478</td>\n",
       "        </tr>\n",
       "    </tbody>\n",
       "        <tr>\n",
       "            <td>81.1567</td> <td>consonant</td> <td>81.8567</td>\n",
       "        </tr>\n",
       "    </tbody>\n",
       "        <tr>\n",
       "            <td>84.729 </td> <td>consonant</td> <td>85.429 </td>\n",
       "        </tr>\n",
       "    </tbody>\n",
       "        <tr>\n",
       "            <td>86.5149</td> <td>consonant</td> <td>87.2149</td>\n",
       "        </tr>\n",
       "    </tbody>\n",
       "</table>\n",
       "<p>... (95 rows omitted)</p"
      ],
      "text/plain": [
       "start   | type      | stop\n",
       "4.96914 | consonant | 5.66914\n",
       "10.0105 | consonant | 10.7105\n",
       "28.3729 | consonant | 29.0729\n",
       "47.8371 | consonant | 48.5371\n",
       "58.3871 | consonant | 59.0871\n",
       "65.2148 | consonant | 65.9148\n",
       "75.5478 | consonant | 76.2478\n",
       "81.1567 | consonant | 81.8567\n",
       "84.729  | consonant | 85.429\n",
       "86.5149 | consonant | 87.2149\n",
       "... (95 rows omitted)"
      ]
     },
     "execution_count": 24,
     "metadata": {},
     "output_type": "execute_result"
    }
   ],
   "source": [
    "import neurods as nds\n",
    "import mne\n",
    "import datascience as ds\n",
    "import pandas as pd\n",
    "import numpy as np\n",
    "%matplotlib inline\n",
    "\n",
    "# First read event times and some data\n",
    "path_ecog = nds.io.data_list['ecog'] + 'chords_task/'\n",
    "data = mne.io.Raw(path_ecog + 'ecog_resamp-raw.fif', preload=True)\n",
    "time = ds.Table.read_table(path_ecog + 'meta_time.csv', index_col=0)\n",
    "time"
   ]
  },
  {
   "cell_type": "markdown",
   "metadata": {},
   "source": [
    "## 1. Convert event times (in seconds) to event times in samples."
   ]
  },
  {
   "cell_type": "code",
   "execution_count": 3,
   "metadata": {
    "collapsed": true
   },
   "outputs": [],
   "source": [
    "# We'll use the sampling frequency to convert seconds to samples\n",
    "sfreq = data.info['sfreq']\n",
    "\n",
    "# Now do the conversion\n",
    "indices = sfreq * time['start']\n",
    "\n",
    "# Make sure that indices are now integers (since they refer to indices in the data)\n",
    "indices = indices.astype(int)"
   ]
  },
  {
   "cell_type": "markdown",
   "metadata": {},
   "source": [
    "## 2. Create a unique integer for each event type"
   ]
  },
  {
   "cell_type": "code",
   "execution_count": 5,
   "metadata": {
    "collapsed": false
   },
   "outputs": [
    {
     "name": "stdout",
     "output_type": "stream",
     "text": [
      "['consonant' 'consonant' 'consonant' 'consonant' 'consonant' 'consonant'\n",
      " 'consonant' 'consonant' 'consonant' 'consonant' 'consonant' 'consonant'\n",
      " 'consonant' 'consonant' 'consonant' 'consonant' 'consonant' 'consonant'\n",
      " 'consonant' 'consonant' 'consonant' 'consonant' 'consonant' 'consonant'\n",
      " 'consonant' 'consonant' 'consonant' 'consonant' 'consonant' 'consonant'\n",
      " 'consonant' 'consonant' 'consonant' 'consonant' 'consonant' 'consonant'\n",
      " 'consonant' 'consonant' 'consonant' 'consonant' 'consonant' 'consonant'\n",
      " 'dissonant' 'dissonant' 'dissonant' 'dissonant' 'dissonant' 'dissonant'\n",
      " 'dissonant' 'dissonant' 'dissonant' 'dissonant' 'dissonant' 'dissonant'\n",
      " 'dissonant' 'dissonant' 'dissonant' 'dissonant' 'dissonant' 'dissonant'\n",
      " 'dissonant' 'dissonant' 'dissonant' 'dissonant' 'dissonant' 'dissonant'\n",
      " 'dissonant' 'dissonant' 'dissonant' 'dissonant' 'dissonant' 'dissonant'\n",
      " 'dissonant' 'dissonant' 'dissonant' 'dissonant' 'dissonant' 'dissonant'\n",
      " 'dissonant' 'dissonant' 'dissonant' 'dissonant' 'meow' 'meow' 'meow'\n",
      " 'meow' 'meow' 'meow' 'meow' 'meow' 'meow' 'meow' 'meow' 'meow' 'meow'\n",
      " 'meow' 'meow' 'meow' 'meow' 'meow' 'meow' 'meow' 'meow' 'meow' 'meow']\n"
     ]
    }
   ],
   "source": [
    "trial_types = time['type']\n",
    "print(trial_types)"
   ]
  },
  {
   "cell_type": "code",
   "execution_count": 8,
   "metadata": {
    "collapsed": false
   },
   "outputs": [
    {
     "name": "stdout",
     "output_type": "stream",
     "text": [
      "['consonant' 'dissonant' 'meow']\n"
     ]
    }
   ],
   "source": [
    "# Now create a vector of integers, one for each trial type\n",
    "trial_type_nums = trial_types.copy()\n",
    "unique_trials = np.unique(trial_types)\n",
    "print(unique_trials)"
   ]
  },
  {
   "cell_type": "code",
   "execution_count": 9,
   "metadata": {
    "collapsed": false
   },
   "outputs": [
    {
     "data": {
      "text/plain": [
       "array([0, 0, 0, 0, 0, 0, 0, 0, 0, 0, 0, 0, 0, 0, 0, 0, 0, 0, 0, 0, 0, 0, 0,\n",
       "       0, 0, 0, 0, 0, 0, 0, 0, 0, 0, 0, 0, 0, 0, 0, 0, 0, 0, 0, 1, 1, 1, 1,\n",
       "       1, 1, 1, 1, 1, 1, 1, 1, 1, 1, 1, 1, 1, 1, 1, 1, 1, 1, 1, 1, 1, 1, 1,\n",
       "       1, 1, 1, 1, 1, 1, 1, 1, 1, 1, 1, 1, 1, 2, 2, 2, 2, 2, 2, 2, 2, 2, 2,\n",
       "       2, 2, 2, 2, 2, 2, 2, 2, 2, 2, 2, 2, 2])"
      ]
     },
     "execution_count": 9,
     "metadata": {},
     "output_type": "execute_result"
    }
   ],
   "source": [
    "# We'll iterate through each unique trial type\n",
    "# we'll assign its integer to the corresponding trials\n",
    "for i, name in enumerate(unique_trials):\n",
    "    mask = trial_types == name\n",
    "    trial_type_nums[mask] = i\n",
    "    \n",
    "# Again, make sure that these are integers.\n",
    "trial_type_nums = trial_type_nums.astype(int)\n",
    "trial_type_nums"
   ]
  },
  {
   "cell_type": "markdown",
   "metadata": {},
   "source": [
    "## 3. Combine the above into an MNE events array\n",
    "These are all \"row\" vectors, but we want them to be \"columns\". To do this, we'll first stack them vertically (so it is shape `3 x n_events`), and then we'll transpose this matrix (so it will then be shape `n_events x 3`):"
   ]
  },
  {
   "cell_type": "code",
   "execution_count": 15,
   "metadata": {
    "collapsed": true
   },
   "outputs": [],
   "source": [
    "# First column is the trial index vector\n",
    "first_col = indices\n",
    "\n",
    "# Second column can just be zeros\n",
    "second_col = np.zeros_like(first_col)\n",
    "\n",
    "# Third column is the trial type numbers\n",
    "third_col = trial_type_nums"
   ]
  },
  {
   "cell_type": "code",
   "execution_count": 19,
   "metadata": {
    "collapsed": false
   },
   "outputs": [
    {
     "name": "stdout",
     "output_type": "stream",
     "text": [
      "(105, 3)\n",
      "\n",
      "---\n",
      "\n",
      "[[ 2484     0     0]\n",
      " [ 5005     0     0]\n",
      " [14186     0     0]\n",
      " [23918     0     0]\n",
      " [29193     0     0]]\n"
     ]
    }
   ],
   "source": [
    "events = np.vstack([first_col, second_col, third_col])\n",
    "events = events.transpose()\n",
    "print(events.shape)\n",
    "print('\\n---\\n')\n",
    "print(events[:5])"
   ]
  },
  {
   "cell_type": "markdown",
   "metadata": {},
   "source": [
    "## 4. Create a dictionary mapping event types to event ID numbers\n",
    "When we created the unique event IDs, we also could have created this info dictionary like this:"
   ]
  },
  {
   "cell_type": "code",
   "execution_count": 21,
   "metadata": {
    "collapsed": false
   },
   "outputs": [
    {
     "name": "stdout",
     "output_type": "stream",
     "text": [
      "{'meow': 2, 'dissonant': 1, 'consonant': 0}\n"
     ]
    }
   ],
   "source": [
    "# Create an empty dictionary\n",
    "event_ids = dict()\n",
    "\n",
    "# Now populate it with the unique ID for each event type\n",
    "for i, name in enumerate(unique_trials):\n",
    "    event_ids[name] = i\n",
    "    \n",
    "print(event_ids)"
   ]
  },
  {
   "cell_type": "markdown",
   "metadata": {},
   "source": [
    "## Now, we have everything we need to create `Epochs` objects"
   ]
  },
  {
   "cell_type": "code",
   "execution_count": 26,
   "metadata": {
    "collapsed": false
   },
   "outputs": [
    {
     "name": "stdout",
     "output_type": "stream",
     "text": [
      "The events passed to the Epochs constructor are not chronologically ordered.\n",
      "105 matching events found\n",
      "Applying baseline correction (mode: mean)\n",
      "0 projection items activated\n"
     ]
    }
   ],
   "source": [
    "epochs = mne.Epochs(data, events, event_ids, tmin=-.2, tmax=.5)"
   ]
  },
  {
   "cell_type": "code",
   "execution_count": 28,
   "metadata": {
    "collapsed": false
   },
   "outputs": [
    {
     "data": {
      "image/png": "[encoded data removed]",
      "text/plain": [
       "<matplotlib.figure.Figure at 0x7f08c4e8f048>"
      ]
     },
     "metadata": {},
     "output_type": "display_data"
    }
   ],
   "source": [
    "_ = epochs.average().plot()"
   ]
  },
  {
   "cell_type": "code",
   "execution_count": null,
   "metadata": {
    "collapsed": true
   },
   "outputs": [],
   "source": []
  }
 ],
 "metadata": {
  "hide_input": false,
  "kernelspec": {
   "display_name": "Python 3",
   "language": "python",
   "name": "python3"
  },
  "language_info": {
   "codemirror_mode": {
    "name": "ipython",
    "version": 3
   },
   "file_extension": ".py",
   "mimetype": "text/x-python",
   "name": "python",
   "nbconvert_exporter": "python",
   "pygments_lexer": "ipython3",
   "version": "3.5.2"
  }
 },
 "nbformat": 4,
 "nbformat_minor": 0
}
